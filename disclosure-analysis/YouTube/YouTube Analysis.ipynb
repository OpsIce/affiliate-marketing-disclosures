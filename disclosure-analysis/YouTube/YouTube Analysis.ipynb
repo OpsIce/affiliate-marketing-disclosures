{
 "cells": [
  {
   "cell_type": "code",
   "execution_count": 40,
   "metadata": {},
   "outputs": [],
   "source": [
    "import pandas as pd\n",
    "import sqlite3\n",
    "import matplotlib.pyplot as plt\n",
    "import matplotlib\n",
    "import numpy as np\n",
    "import isodate\n",
    "import urltools\n",
    "import urllib\n",
    "from scipy.stats import mannwhitneyu\n",
    "import re\n",
    "import os.path\n",
    "from langdetect import detect\n",
    "import string\n",
    "import nltk\n",
    "from nltk.tokenize import sent_tokenize\n",
    "from sklearn.feature_extraction.text import CountVectorizer, TfidfTransformer\n",
    "import fastcluster\n",
    "from sklearn.metrics.pairwise import euclidean_distances, cosine_distances\n",
    "from scipy.spatial.distance import squareform\n",
    "import sys\n",
    "from scipy.cluster.hierarchy import fcluster, dendrogram\n",
    "from nltk.stem.porter import PorterStemmer\n",
    "from ggplot import *\n",
    "import utils\n",
    "import warnings\n",
    "warnings.filterwarnings('ignore')\n",
    "sys.setrecursionlimit(100000)\n",
    "matplotlib.style.use('ggplot')"
   ]
  },
  {
   "cell_type": "markdown",
   "metadata": {},
   "source": [
    "## YouTube - Exploratory Analyses\n",
    "### Loading the dataset\n",
    "First, let us load the dataset from the database."
   ]
  },
  {
   "cell_type": "code",
   "execution_count": 3,
   "metadata": {},
   "outputs": [],
   "source": [
    "con = sqlite3.connect('../../crawler/YouTube/youtube.db')\n",
    "video = pd.read_sql_query('''SELECT v.autoId as autoId, \n",
    "                                    v.id as id,\n",
    "                                    v.categoryId as categoryId,\n",
    "                                    v.channelId as channelId,\n",
    "                                    v.publishedAt as publishedAt,\n",
    "                                    v.title as title,\n",
    "                                    v.description as description,\n",
    "                                    v.viewCount as viewCount,\n",
    "                                    v.likeCount as likeCount,\n",
    "                                    v.dislikeCount as dislikeCount,\n",
    "                                    v.favoriteCount as favoriteCount,\n",
    "                                    v.commentCount as commentCount,\n",
    "                                    v.duration as duration,\n",
    "                                    v.defaultLanguage as defaultLanguage,\n",
    "                                    c.title as channelTitle,\n",
    "                                    c.description as channelDescription,\n",
    "                                    c.publishedAt as channelPublishedAt,\n",
    "                                    c.viewCount as channelViewCount,\n",
    "                                    c.commentCount as channelCommentCount,\n",
    "                                    c.subscriberCount as channelSubscriberCount,\n",
    "                                    c.videoCount as channelVideoCount,\n",
    "                                    c.country as channelCountry\n",
    "                                    from video v left join channel c on v.channelId = c.id''', con)\n",
    "url = pd.read_sql_query('SELECT * from urlNumber', con)\n",
    "urlResolve = pd.read_sql_query('SELECT * from urlResolve', con)\n",
    "category = pd.read_sql_query('SELECT * from category', con)\n",
    "channel = pd.read_sql_query('SELECT * from channel', con)\n",
    "captions = pd.read_sql_query('SELECT * FROM captions', con)"
   ]
  },
  {
   "cell_type": "markdown",
   "metadata": {},
   "source": [
    "Next, let's examine the count of videos we collected. The tables are ``video``, ``url``, ``urlResolve``, and ``category``."
   ]
  },
  {
   "cell_type": "code",
   "execution_count": 4,
   "metadata": {},
   "outputs": [
    {
     "data": {
      "text/plain": [
       "(515999, 22)"
      ]
     },
     "execution_count": 4,
     "metadata": {},
     "output_type": "execute_result"
    }
   ],
   "source": [
    "video.shape"
   ]
  },
  {
   "cell_type": "code",
   "execution_count": 5,
   "metadata": {},
   "outputs": [
    {
     "data": {
      "text/plain": [
       "['autoId',\n",
       " 'id',\n",
       " 'categoryId',\n",
       " 'channelId',\n",
       " 'publishedAt',\n",
       " 'title',\n",
       " 'description',\n",
       " 'viewCount',\n",
       " 'likeCount',\n",
       " 'dislikeCount',\n",
       " 'favoriteCount',\n",
       " 'commentCount',\n",
       " 'duration',\n",
       " 'defaultLanguage',\n",
       " 'channelTitle',\n",
       " 'channelDescription',\n",
       " 'channelPublishedAt',\n",
       " 'channelViewCount',\n",
       " 'channelCommentCount',\n",
       " 'channelSubscriberCount',\n",
       " 'channelVideoCount',\n",
       " 'channelCountry']"
      ]
     },
     "execution_count": 5,
     "metadata": {},
     "output_type": "execute_result"
    }
   ],
   "source": [
    "list(video.columns.values)"
   ]
  },
  {
   "cell_type": "code",
   "execution_count": 6,
   "metadata": {},
   "outputs": [
    {
     "data": {
      "text/plain": [
       "(405471, 4)"
      ]
     },
     "execution_count": 6,
     "metadata": {},
     "output_type": "execute_result"
    }
   ],
   "source": [
    "url.shape"
   ]
  },
  {
   "cell_type": "code",
   "execution_count": 7,
   "metadata": {},
   "outputs": [
    {
     "data": {
      "text/plain": [
       "['autoId', 'videoId', 'url', 'lineNumber']"
      ]
     },
     "execution_count": 7,
     "metadata": {},
     "output_type": "execute_result"
    }
   ],
   "source": [
    "list(url.columns.values)"
   ]
  },
  {
   "cell_type": "code",
   "execution_count": 8,
   "metadata": {},
   "outputs": [
    {
     "data": {
      "text/plain": [
       "(660009, 5)"
      ]
     },
     "execution_count": 8,
     "metadata": {},
     "output_type": "execute_result"
    }
   ],
   "source": [
    "urlResolve.shape"
   ]
  },
  {
   "cell_type": "code",
   "execution_count": 9,
   "metadata": {},
   "outputs": [
    {
     "data": {
      "text/plain": [
       "['autoId', 'urlId', 'url', 'urlOrder', 'code']"
      ]
     },
     "execution_count": 9,
     "metadata": {},
     "output_type": "execute_result"
    }
   ],
   "source": [
    "list(urlResolve.columns.values)"
   ]
  },
  {
   "cell_type": "code",
   "execution_count": 10,
   "metadata": {},
   "outputs": [
    {
     "data": {
      "text/plain": [
       "(32, 3)"
      ]
     },
     "execution_count": 10,
     "metadata": {},
     "output_type": "execute_result"
    }
   ],
   "source": [
    "category.shape"
   ]
  },
  {
   "cell_type": "code",
   "execution_count": 11,
   "metadata": {},
   "outputs": [
    {
     "data": {
      "text/plain": [
       "['autoId', 'id', 'key']"
      ]
     },
     "execution_count": 11,
     "metadata": {},
     "output_type": "execute_result"
    }
   ],
   "source": [
    "list(category.columns.values)"
   ]
  },
  {
   "cell_type": "markdown",
   "metadata": {},
   "source": [
    "### Examining the videos\n",
    "Next, let's examine the categories of the videos."
   ]
  },
  {
   "cell_type": "code",
   "execution_count": 12,
   "metadata": {},
   "outputs": [
    {
     "data": {
      "text/plain": [
       "{1: u'Film & Animation',\n",
       " 2: u'Autos & Vehicles',\n",
       " 10: u'Music',\n",
       " 15: u'Pets & Animals',\n",
       " 17: u'Sports',\n",
       " 18: u'Short Movies',\n",
       " 19: u'Travel & Events',\n",
       " 20: u'Gaming',\n",
       " 21: u'Videoblogging',\n",
       " 22: u'People & Blogs',\n",
       " 23: u'Comedy',\n",
       " 24: u'Entertainment',\n",
       " 25: u'News & Politics',\n",
       " 26: u'Howto & Style',\n",
       " 27: u'Education',\n",
       " 28: u'Science & Technology',\n",
       " 29: u'Nonprofits & Activism',\n",
       " 30: u'Movies',\n",
       " 31: u'Anime/Animation',\n",
       " 32: u'Action/Adventure',\n",
       " 33: u'Classics',\n",
       " 34: u'Comedy',\n",
       " 35: u'Documentary',\n",
       " 36: u'Drama',\n",
       " 37: u'Family',\n",
       " 38: u'Foreign',\n",
       " 39: u'Horror',\n",
       " 40: u'Sci-Fi/Fantasy',\n",
       " 41: u'Thriller',\n",
       " 42: u'Shorts',\n",
       " 43: u'Shows',\n",
       " 44: u'Trailers'}"
      ]
     },
     "execution_count": 12,
     "metadata": {},
     "output_type": "execute_result"
    }
   ],
   "source": [
    "category_dict = {}\n",
    "for index, row in category.iterrows():\n",
    "    category_dict[int(row['id'])] = row['key']\n",
    "category_dict"
   ]
  },
  {
   "cell_type": "markdown",
   "metadata": {},
   "source": [
    "Set the \"categoryId\" column in ``video`` to ``category``'s key."
   ]
  },
  {
   "cell_type": "code",
   "execution_count": 13,
   "metadata": {},
   "outputs": [],
   "source": [
    "video['categoryId'] = video['categoryId'].replace(category_dict)"
   ]
  },
  {
   "cell_type": "markdown",
   "metadata": {},
   "source": [
    "#### Video categories\n",
    "How many videos do we have in each category?"
   ]
  },
  {
   "cell_type": "code",
   "execution_count": 14,
   "metadata": {},
   "outputs": [
    {
     "data": {
      "image/png": "[encoded data removed]",
      "text/plain": [
       "<matplotlib.figure.Figure at 0x1586fbb90>"
      ]
     },
     "metadata": {},
     "output_type": "display_data"
    }
   ],
   "source": [
    "((video['categoryId'].value_counts() * 100) / len(video['categoryId'])).plot.bar()\n",
    "plt.show()"
   ]
  },
  {
   "cell_type": "markdown",
   "metadata": {},
   "source": [
    "#### Video creation times\n",
    "When were these videos published?"
   ]
  },
  {
   "cell_type": "code",
   "execution_count": 15,
   "metadata": {},
   "outputs": [],
   "source": [
    "video['publishedAt'] = pd.to_datetime(video['publishedAt']).dt.year"
   ]
  },
  {
   "cell_type": "code",
   "execution_count": 16,
   "metadata": {},
   "outputs": [
    {
     "data": {
      "image/png": "[encoded data removed]",
      "text/plain": [
       "<matplotlib.figure.Figure at 0x156bcb3d0>"
      ]
     },
     "metadata": {},
     "output_type": "display_data"
    }
   ],
   "source": [
    "((video['publishedAt'].value_counts() * 100) / len(video['publishedAt'])).plot.bar()\n",
    "plt.show()"
   ]
  },
  {
   "cell_type": "markdown",
   "metadata": {},
   "source": [
    "#### Video views\n",
    "How do the views vary?"
   ]
  },
  {
   "cell_type": "code",
   "execution_count": 17,
   "metadata": {},
   "outputs": [
    {
     "data": {
      "text/plain": [
       "count    5.159990e+05\n",
       "mean     3.087055e+04\n",
       "std      1.010419e+06\n",
       "min      0.000000e+00\n",
       "25%      1.100000e+01\n",
       "50%      4.900000e+01\n",
       "75%      3.100000e+02\n",
       "max      2.876380e+08\n",
       "Name: viewCount, dtype: float64"
      ]
     },
     "execution_count": 17,
     "metadata": {},
     "output_type": "execute_result"
    }
   ],
   "source": [
    "video['viewCount'].describe()"
   ]
  },
  {
   "cell_type": "markdown",
   "metadata": {},
   "source": [
    "#### Video duration\n",
    "How long are the videos?"
   ]
  },
  {
   "cell_type": "code",
   "execution_count": 18,
   "metadata": {},
   "outputs": [
    {
     "data": {
      "text/plain": [
       "count    515999.000000\n",
       "mean        445.870275\n",
       "std        1201.335379\n",
       "min           0.000000\n",
       "25%          61.000000\n",
       "50%         172.000000\n",
       "75%         366.000000\n",
       "max       86400.000000\n",
       "Name: duration, dtype: float64"
      ]
     },
     "execution_count": 18,
     "metadata": {},
     "output_type": "execute_result"
    }
   ],
   "source": [
    "video['duration'] = video['duration'].map(lambda x: isodate.parse_duration(x).total_seconds())\n",
    "video['duration'].describe()"
   ]
  },
  {
   "cell_type": "markdown",
   "metadata": {},
   "source": [
    "#### Video Channels\n",
    "\n",
    "How many channels do these videos correspond to?"
   ]
  },
  {
   "cell_type": "code",
   "execution_count": 19,
   "metadata": {},
   "outputs": [
    {
     "data": {
      "text/plain": [
       "False    484172\n",
       "True      31827\n",
       "Name: channelId, dtype: int64"
      ]
     },
     "execution_count": 19,
     "metadata": {},
     "output_type": "execute_result"
    }
   ],
   "source": [
    "video['channelId'].duplicated().value_counts()"
   ]
  },
  {
   "cell_type": "markdown",
   "metadata": {},
   "source": [
    "#### Video countries\n",
    "\n",
    "Which countries are the channels from?"
   ]
  },
  {
   "cell_type": "code",
   "execution_count": 20,
   "metadata": {},
   "outputs": [
    {
     "data": {
      "image/png": "[encoded data removed]",
      "text/plain": [
       "<matplotlib.figure.Figure at 0x14fb35490>"
      ]
     },
     "metadata": {},
     "output_type": "display_data"
    }
   ],
   "source": [
    "(video['channelCountry'].value_counts()[video['channelCountry'].value_counts() > 500] * 100 / len(video['channelCountry'])).plot.bar()\n",
    "plt.show()"
   ]
  },
  {
   "cell_type": "markdown",
   "metadata": {},
   "source": [
    "### Manipulating the URLs"
   ]
  },
  {
   "cell_type": "markdown",
   "metadata": {},
   "source": [
    "Add functions that dissect the URL to reveal the various parts."
   ]
  },
  {
   "cell_type": "code",
   "execution_count": 21,
   "metadata": {},
   "outputs": [],
   "source": [
    "def manipulate_urls(x):\n",
    "    parsed_url = urltools.parse(x.url)\n",
    "    \n",
    "    sd = parsed_url.subdomain.lower()\n",
    "    if sd.startswith('www.'):\n",
    "        sd = sd[4:]\n",
    "    \n",
    "    return pd.Series([parsed_url.domain.lower(), \n",
    "                      urllib.unquote(parsed_url.path).lower(),\n",
    "                      sd,\n",
    "                      urllib.unquote(parsed_url.query).lower()])"
   ]
  },
  {
   "cell_type": "code",
   "execution_count": 22,
   "metadata": {},
   "outputs": [
    {
     "data": {
      "text/plain": [
       "['autoId', 'urlId', 'url', 'urlOrder', 'code']"
      ]
     },
     "execution_count": 22,
     "metadata": {},
     "output_type": "execute_result"
    }
   ],
   "source": [
    "list(urlResolve.columns.values)"
   ]
  },
  {
   "cell_type": "code",
   "execution_count": 23,
   "metadata": {},
   "outputs": [],
   "source": [
    "urlResolve[['urlDomain', 'urlPath', 'urlSubDomain', 'urlParams']] = urlResolve.apply(manipulate_urls, axis=1)"
   ]
  },
  {
   "cell_type": "markdown",
   "metadata": {},
   "source": [
    "Mark all the following patterns as affiliate links."
   ]
  },
  {
   "cell_type": "code",
   "execution_count": 24,
   "metadata": {},
   "outputs": [],
   "source": [
    "def check_affiliate_link(x):\n",
    "    params_list = map(lambda y: y.split('=')[0], x.urlParams.split('&'))\n",
    "    regexp_clickbank = re.compile(r'.*.hop')\n",
    "    regexp_anrdoezrs = re.compile(r'/click-[0-9]+-[0-9]+')\n",
    "    regexp_buyeasy_1 = re.compile(r'/cashback.*')\n",
    "    regexp_buyeasy_2 = re.compile(r'/redirect.*')\n",
    "    regexp_admitad_1 = re.compile(r'/g/.*')\n",
    "    regexp_admitad_2 = re.compile(r'/goto/.*')\n",
    "    regexp_impactradius = re.compile(r'/c/[0-9]+/[0-9]+/[0-9]+')\n",
    "    regexp_pepperjam = re.compile(r'/t/[0-9]-[0-9]+-[0-9]+-[0-9]+')\n",
    "    \n",
    "    if ((x.urlDomain == 'affiliaxe' and 'aff_id' in params_list) or\n",
    "        (x.urlDomain == 'aliexpress' and 'af' in params_list) or\n",
    "        (x.urlDomain == 'amazon' and 'tag' in params_list) or\n",
    "        (x.urlDomain == 'apessay' and 'rid' in params_list) or\n",
    "        (x.urlDomain == 'apple' and 'at' in params_list) or\n",
    "        (x.urlDomain == 'audiojungle' and 'ref' in params_list) or\n",
    "        (x.urlDomain == 'awin1' and 'awinaffid' in params_list) or\n",
    "        (x.urlDomain == 'zanox' and x.urlPath == '/ppc') or\n",
    "        (x.urlDomain == 'zenaps' and x.urlPath == '/rclick.php') or\n",
    "        (x.urlDomain == 'banggood' and 'p' in params_list) or\n",
    "        (x.urlDomain == 'bookdepository' and 'a_aid' in params_list) or\n",
    "        (x.urlDomain == 'booking' and 'aid' in params_list) or\n",
    "        (x.urlDomain == 'ebay' and 'campid' in params_list) or\n",
    "        (x.urlDomain == 'envato' and 'ref' in params_list) or\n",
    "        (x.urlDomain == 'gtomegaracing' and 'tracking' in params_list) or\n",
    "        (x.urlDomain == 'hotellook' and 'marker' in params_list) or\n",
    "        (x.urlDomain == 'hotmart' and 'a' in params_list) or\n",
    "        (x.urlDomain == 'kontrolfreek' and 'a_aid' in params_list) or\n",
    "        (x.urlDomain == 'shareasale' and x.urlPath == '/r.cfm') or\n",
    "        (x.urlDomain == 'shareasale' and x.urlPath == '/m-pr.cfm') or\n",
    "        (x.urlDomain == 'shareasale' and x.urlPath == '/u.cfm') or\n",
    "        (x.urlDomain == 'rstyle') or\n",
    "        (x.urlDomain == 'shopstyle') or\n",
    "        (x.urlDomain == 'makeupgeek' and 'acc' in params_list) or\n",
    "        (x.urlDomain == 'olymptrade' and 'affiliate_id' in params_list) or\n",
    "        (x.urlDomain == 'videohive' and 'ref' in params_list) or\n",
    "        (x.urlDomain == 'avantlink' and 'pw' in params_list) or\n",
    "        (x.urlDomain == 'avangate' and 'AFFILIATE'.lower() in params_list) or\n",
    "        (x.urlDomain == 'redirectingat' and 'id' in params_list) or\n",
    "        (x.urlDomain == 'linksynergy' and x.urlSubDomain == 'click' and 'id' in params_list) or\n",
    "        (x.urlDomain == 'audiobooks' and 'a_aid' in params_list and 'a_bid' in params_list) or\n",
    "        (x.urlDomain == 'buyeasy' and regexp_buyeasy_1.search(x.urlPath)) or\n",
    "        (x.urlDomain == 'buyeasy' and regexp_buyeasy_2.search(x.urlPath)) or\n",
    "        (x.urlDomain == 'clickbank' and regexp_clickbank.search(x.urlSubDomain)) or\n",
    "        \n",
    "        ((x.urlDomain == '7eer' or x.urlDomain == 'evyy' or x.urlDomain == 'ojrq' ) and regexp_impactradius.search(x.urlPath)) or\n",
    "        \n",
    "        ((x.urlDomain == 'anrdoezrs' or x.urlDomain == 'dpbolvw' or x.urlDomain == 'kqzyfj' or x.urlDomain == 'jdoqocy' or x.urlDomain == 'tkqlhce') and regexp_anrdoezrs.search(x.urlPath)) or\n",
    "        (x.urlDomain == 'emjcd') or\n",
    "        (x.urlDomain == 'dotomi') or\n",
    "        (x.urlDomain == 'qksrv') or\n",
    "        \n",
    "        (x.urlDomain == 'zaful' and 'lkid' in params_list) or\n",
    "        (x.urlDomain == 'codecanyon' and 'ref' in params_list) or\n",
    "        (x.urlDomain == 'graphicriver' and 'ref' in params_list) or\n",
    "        (x.urlDomain == 'themeforest' and 'ref' in params_list) or\n",
    "        (x.urlDomain == 'admitad' and (regexp_admitad_1.search(x.urlPath) or regexp_admitad_2.search(x.urlPath))) or\n",
    "        (x.urlDomain == 'flipkart' and 'affid' in params_list) or\n",
    "        \n",
    "        ((x.urlDomain == 'pntra' or\n",
    "        x.urlDomain == 'gopjn' or\n",
    "        x.urlDomain == 'pjtra' or\n",
    "        x.urlDomain == 'pjatr' or\n",
    "        x.urlDomain == 'pntrs' or\n",
    "        x.urlDomain == 'pntrac') and (regexp_pepperjam.search(x.urlPath)))\n",
    "       ):\n",
    "        \n",
    "            return True\n",
    "        \n",
    "    return False\n",
    "\n",
    "urlResolve['affiliateLink'] = urlResolve.apply(check_affiliate_link, axis=1)"
   ]
  },
  {
   "cell_type": "markdown",
   "metadata": {},
   "source": [
    "How many of these resolved links were affiliate in nature?"
   ]
  },
  {
   "cell_type": "code",
   "execution_count": 25,
   "metadata": {},
   "outputs": [
    {
     "data": {
      "text/plain": [
       "False    643898\n",
       "True      16111\n",
       "Name: affiliateLink, dtype: int64"
      ]
     },
     "execution_count": 25,
     "metadata": {},
     "output_type": "execute_result"
    }
   ],
   "source": [
    "urlResolve['affiliateLink'].value_counts()"
   ]
  },
  {
   "cell_type": "markdown",
   "metadata": {},
   "source": [
    "How did these resolved affiliate links vary by domain?"
   ]
  },
  {
   "cell_type": "code",
   "execution_count": 26,
   "metadata": {},
   "outputs": [
    {
     "data": {
      "text/plain": [
       "urlDomain\n",
       "amazon            7308\n",
       "aliexpress        2167\n",
       "buyeasy            741\n",
       "clickbank          678\n",
       "apple              669\n",
       "videohive          578\n",
       "rstyle             402\n",
       "booking            257\n",
       "admitad            245\n",
       "hotmart            211\n",
       "shareasale         199\n",
       "linksynergy        189\n",
       "envato             175\n",
       "7eer               172\n",
       "hotellook          165\n",
       "affiliaxe          151\n",
       "apessay            141\n",
       "audiobooks         129\n",
       "kontrolfreek       117\n",
       "dotomi             115\n",
       "shopstyle          111\n",
       "audiojungle        108\n",
       "bookdepository     103\n",
       "emjcd              103\n",
       "ebay                99\n",
       "banggood            88\n",
       "flipkart            81\n",
       "awin1               70\n",
       "olymptrade          65\n",
       "zenaps              59\n",
       "makeupgeek          57\n",
       "gtomegaracing       56\n",
       "anrdoezrs           53\n",
       "redirectingat       43\n",
       "avantlink           34\n",
       "zaful               32\n",
       "kqzyfj              20\n",
       "themeforest         19\n",
       "dpbolvw             16\n",
       "graphicriver        15\n",
       "tkqlhce             14\n",
       "codecanyon          14\n",
       "qksrv               14\n",
       "avangate            12\n",
       "evyy                 8\n",
       "jdoqocy              6\n",
       "pntra                1\n",
       "pntrac               1\n",
       "Name: autoId, dtype: int64"
      ]
     },
     "execution_count": 26,
     "metadata": {},
     "output_type": "execute_result"
    }
   ],
   "source": [
    "(urlResolve[urlResolve['affiliateLink'] == True]).groupby(['urlDomain'])['autoId'].count().sort_values(ascending=False)"
   ]
  },
  {
   "cell_type": "markdown",
   "metadata": {},
   "source": [
    "Retain only those original URLs that were affiliate in nature."
   ]
  },
  {
   "cell_type": "code",
   "execution_count": 27,
   "metadata": {},
   "outputs": [],
   "source": [
    "affiliate_urls = url[url['autoId'].isin(urlResolve[urlResolve['affiliateLink'] == True].urlId.tolist())]"
   ]
  },
  {
   "cell_type": "markdown",
   "metadata": {},
   "source": [
    "How many URLs were retained?"
   ]
  },
  {
   "cell_type": "code",
   "execution_count": 28,
   "metadata": {},
   "outputs": [
    {
     "data": {
      "text/plain": [
       "(9912, 4)"
      ]
     },
     "execution_count": 28,
     "metadata": {},
     "output_type": "execute_result"
    }
   ],
   "source": [
    "affiliate_urls.shape"
   ]
  },
  {
   "cell_type": "markdown",
   "metadata": {},
   "source": [
    "How many videos do these URLs correspond to?"
   ]
  },
  {
   "cell_type": "code",
   "execution_count": 29,
   "metadata": {},
   "outputs": [
    {
     "data": {
      "text/plain": [
       "(3472, 22)"
      ]
     },
     "execution_count": 29,
     "metadata": {},
     "output_type": "execute_result"
    }
   ],
   "source": [
    "affiliate_videos = video[video['id'].isin(affiliate_urls['videoId'].tolist())].copy()\n",
    "affiliate_videos.shape"
   ]
  },
  {
   "cell_type": "markdown",
   "metadata": {},
   "source": [
    "#### Affiliate video catgories\n",
    "How do these affiliate videos vary by category?"
   ]
  },
  {
   "cell_type": "code",
   "execution_count": 30,
   "metadata": {},
   "outputs": [
    {
     "data": {
      "image/png": "[encoded data removed]",
      "text/plain": [
       "<matplotlib.figure.Figure at 0x1b6a3c490>"
      ]
     },
     "metadata": {},
     "output_type": "display_data"
    }
   ],
   "source": [
    "((affiliate_videos['categoryId'].value_counts() * 100) / len(affiliate_videos['categoryId'])).plot.bar()\n",
    "plt.show()"
   ]
  },
  {
   "cell_type": "markdown",
   "metadata": {},
   "source": [
    "#### Affiliate video creation time\n",
    "How did these affiliate videos vary by year?"
   ]
  },
  {
   "cell_type": "code",
   "execution_count": 31,
   "metadata": {},
   "outputs": [
    {
     "data": {
      "image/png": "[encoded data removed]",
      "text/plain": [
       "<matplotlib.figure.Figure at 0x1b6a2cfd0>"
      ]
     },
     "metadata": {},
     "output_type": "display_data"
    }
   ],
   "source": [
    "((affiliate_videos['publishedAt'].value_counts() * 100) / len(affiliate_videos['publishedAt'])).plot.bar()\n",
    "plt.show()"
   ]
  },
  {
   "cell_type": "markdown",
   "metadata": {},
   "source": [
    "#### Affiliate video countries\n",
    "\n",
    "What are the affiliate video countries?"
   ]
  },
  {
   "cell_type": "code",
   "execution_count": 32,
   "metadata": {},
   "outputs": [
    {
     "data": {
      "image/png": "[encoded data removed]",
      "text/plain": [
       "<matplotlib.figure.Figure at 0x1b6843e10>"
      ]
     },
     "metadata": {},
     "output_type": "display_data"
    }
   ],
   "source": [
    "((affiliate_videos['channelCountry'].value_counts()[affiliate_videos['channelCountry'].value_counts() > 50] * 100) / len(affiliate_videos['channelCountry'])).plot.bar()\n",
    "plt.show()"
   ]
  },
  {
   "cell_type": "markdown",
   "metadata": {},
   "source": [
    "#### Affiliate video % by category\n",
    "How did these affiliate videos vary as a function of the overall number of videos in each category?"
   ]
  },
  {
   "cell_type": "code",
   "execution_count": 33,
   "metadata": {},
   "outputs": [
    {
     "data": {
      "text/plain": [
       "Science & Technology     3.614779\n",
       "Howto & Style            3.487491\n",
       "Travel & Events          1.935146\n",
       "Film & Animation         1.598860\n",
       "Shows                    1.369863\n",
       "Music                    0.945682\n",
       "Entertainment            0.683546\n",
       "Education                0.638104\n",
       "Gaming                   0.634697\n",
       "People & Blogs           0.390866\n",
       "News & Politics          0.333736\n",
       "Autos & Vehicles         0.296150\n",
       "Pets & Animals           0.292713\n",
       "Nonprofits & Activism    0.234101\n",
       "Sports                   0.192339\n",
       "Comedy                   0.190282\n",
       "Movies                        NaN\n",
       "Trailers                      NaN\n",
       "Name: categoryId, dtype: float64"
      ]
     },
     "execution_count": 33,
     "metadata": {},
     "output_type": "execute_result"
    }
   ],
   "source": [
    "((affiliate_videos['categoryId'].value_counts()*100)/video['categoryId'].value_counts()).sort_values(ascending=False)"
   ]
  },
  {
   "cell_type": "code",
   "execution_count": 34,
   "metadata": {},
   "outputs": [
    {
     "data": {
      "image/png": "[encoded data removed]",
      "text/plain": [
       "<matplotlib.figure.Figure at 0x1b6707290>"
      ]
     },
     "metadata": {},
     "output_type": "display_data"
    }
   ],
   "source": [
    "((affiliate_videos['categoryId'].value_counts()*100)/video['categoryId'].value_counts()).sort_values(ascending=False).plot.bar()\n",
    "plt.show()"
   ]
  },
  {
   "cell_type": "markdown",
   "metadata": {},
   "source": [
    "#### Affiliate video % by year\n",
    "How did the year of these affiliate videos vary as a function of the number of overall videos in each year?"
   ]
  },
  {
   "cell_type": "code",
   "execution_count": 35,
   "metadata": {},
   "outputs": [
    {
     "data": {
      "image/png": "[encoded data removed]",
      "text/plain": [
       "<matplotlib.figure.Figure at 0x1b67d7cd0>"
      ]
     },
     "metadata": {},
     "output_type": "display_data"
    }
   ],
   "source": [
    "((affiliate_videos.groupby('publishedAt')['autoId'].count()*100) / video.groupby('publishedAt')['autoId'].count()).sort_values(ascending=False).plot.bar()\n",
    "plt.show()"
   ]
  },
  {
   "cell_type": "markdown",
   "metadata": {},
   "source": [
    "#### Affiliate video views\n",
    "How do the views of the affiliate videos vary?"
   ]
  },
  {
   "cell_type": "code",
   "execution_count": 36,
   "metadata": {},
   "outputs": [
    {
     "data": {
      "text/plain": [
       "count    3.472000e+03\n",
       "mean     3.127831e+05\n",
       "std      3.151148e+06\n",
       "min      0.000000e+00\n",
       "25%      4.000000e+00\n",
       "50%      1.460000e+02\n",
       "75%      1.046300e+04\n",
       "max      1.066066e+08\n",
       "Name: viewCount, dtype: float64"
      ]
     },
     "execution_count": 36,
     "metadata": {},
     "output_type": "execute_result"
    }
   ],
   "source": [
    "affiliate_videos['viewCount'].describe()"
   ]
  },
  {
   "cell_type": "markdown",
   "metadata": {},
   "source": [
    "Is this different from the non-affiliate videos?"
   ]
  },
  {
   "cell_type": "code",
   "execution_count": 37,
   "metadata": {},
   "outputs": [
    {
     "data": {
      "text/plain": [
       "count    5.125270e+05\n",
       "mean     2.896080e+04\n",
       "std      9.798330e+05\n",
       "min      0.000000e+00\n",
       "25%      1.100000e+01\n",
       "50%      4.900000e+01\n",
       "75%      3.060000e+02\n",
       "max      2.876380e+08\n",
       "Name: viewCount, dtype: float64"
      ]
     },
     "execution_count": 37,
     "metadata": {},
     "output_type": "execute_result"
    }
   ],
   "source": [
    "non_affiliate_videos = video[~video['id'].isin(affiliate_urls['videoId'].tolist())].copy()\n",
    "non_affiliate_videos['viewCount'].describe()"
   ]
  },
  {
   "cell_type": "code",
   "execution_count": 41,
   "metadata": {},
   "outputs": [],
   "source": [
    "dat_affiliate = utils.cdf(np.log10(affiliate_videos['viewCount'] + 1), 'viewCount')\n",
    "dat_affiliate['Type'] = 'Affiliate videos'\n",
    "dat_non_affiliate = utils.cdf(np.log10(non_affiliate_videos['viewCount'] + 1), 'viewCount')\n",
    "dat_non_affiliate['Type'] = 'Non-affiliate videos'\n",
    "dat_all = utils.cdf(np.log10(video['viewCount'] + 1), 'viewCount')\n",
    "dat_all['Type'] = 'All'\n",
    "dat = pd.concat([dat_affiliate, dat_non_affiliate, dat_all])"
   ]
  },
  {
   "cell_type": "code",
   "execution_count": 42,
   "metadata": {},
   "outputs": [
    {
     "data": {
      "image/png": "[encoded data removed]",
      "text/plain": [
       "<matplotlib.figure.Figure at 0x1b62df510>"
      ]
     },
     "metadata": {},
     "output_type": "display_data"
    },
    {
     "data": {
      "text/plain": [
       "<ggplot: (459464533)>"
      ]
     },
     "execution_count": 42,
     "metadata": {},
     "output_type": "execute_result"
    }
   ],
   "source": [
    "ggplot(dat, aes(x = 'viewCount', y='Fraction', color='Type')) + geom_path() + xlab('Log(View Count)')"
   ]
  },
  {
   "cell_type": "code",
   "execution_count": 43,
   "metadata": {},
   "outputs": [
    {
     "data": {
      "text/plain": [
       "MannwhitneyuResult(statistic=771575829.0, pvalue=6.752472902805625e-42)"
      ]
     },
     "execution_count": 43,
     "metadata": {},
     "output_type": "execute_result"
    }
   ],
   "source": [
    "mannwhitneyu(affiliate_videos['viewCount'].tolist(), non_affiliate_videos['viewCount'].tolist())"
   ]
  },
  {
   "cell_type": "markdown",
   "metadata": {},
   "source": [
    "Videos with affiliate links have significantly more views than those without."
   ]
  },
  {
   "cell_type": "markdown",
   "metadata": {},
   "source": [
    "#### Affiliate video duration\n",
    "How do the duration of the affiliate videos vary?"
   ]
  },
  {
   "cell_type": "code",
   "execution_count": 44,
   "metadata": {},
   "outputs": [
    {
     "data": {
      "text/plain": [
       "count     3472.000000\n",
       "mean       439.723502\n",
       "std        922.603225\n",
       "min          0.000000\n",
       "25%         77.000000\n",
       "50%        209.000000\n",
       "75%        488.250000\n",
       "max      24697.000000\n",
       "Name: duration, dtype: float64"
      ]
     },
     "execution_count": 44,
     "metadata": {},
     "output_type": "execute_result"
    }
   ],
   "source": [
    "affiliate_videos['duration'].describe()"
   ]
  },
  {
   "cell_type": "markdown",
   "metadata": {},
   "source": [
    "Is this different from the non-affiliate videos?"
   ]
  },
  {
   "cell_type": "code",
   "execution_count": 45,
   "metadata": {},
   "outputs": [
    {
     "data": {
      "text/plain": [
       "count    512527.000000\n",
       "mean        445.911915\n",
       "std        1203.003966\n",
       "min           0.000000\n",
       "25%          61.000000\n",
       "50%         171.000000\n",
       "75%         365.000000\n",
       "max       86400.000000\n",
       "Name: duration, dtype: float64"
      ]
     },
     "execution_count": 45,
     "metadata": {},
     "output_type": "execute_result"
    }
   ],
   "source": [
    "non_affiliate_videos['duration'].describe()"
   ]
  },
  {
   "cell_type": "code",
   "execution_count": 46,
   "metadata": {},
   "outputs": [],
   "source": [
    "dat_affiliate = utils.cdf(np.log10(affiliate_videos['duration'] + 1), 'duration')\n",
    "dat_affiliate['Type'] = 'Affiliate videos'\n",
    "dat_non_affiliate = utils.cdf(np.log10(non_affiliate_videos['duration'] + 1), 'duration')\n",
    "dat_non_affiliate['Type'] = 'Non-affiliate videos'\n",
    "dat_all = utils.cdf(np.log10(video['duration'] + 1), 'duration')\n",
    "dat_all['Type'] = 'All'\n",
    "dat = pd.concat([dat_affiliate, dat_non_affiliate, dat_all])"
   ]
  },
  {
   "cell_type": "code",
   "execution_count": 47,
   "metadata": {},
   "outputs": [
    {
     "data": {
      "image/png": "[encoded data removed]",
      "text/plain": [
       "<matplotlib.figure.Figure at 0x1b6116890>"
      ]
     },
     "metadata": {},
     "output_type": "display_data"
    },
    {
     "data": {
      "text/plain": [
       "<ggplot: (459347705)>"
      ]
     },
     "execution_count": 47,
     "metadata": {},
     "output_type": "execute_result"
    }
   ],
   "source": [
    "ggplot(dat, aes(x = 'duration', y='Fraction', color='Type')) + geom_path() + xlab('Log(Duration)')"
   ]
  },
  {
   "cell_type": "code",
   "execution_count": 48,
   "metadata": {},
   "outputs": [
    {
     "data": {
      "text/plain": [
       "MannwhitneyuResult(statistic=795138654.5, pvalue=1.45295438176669e-27)"
      ]
     },
     "execution_count": 48,
     "metadata": {},
     "output_type": "execute_result"
    }
   ],
   "source": [
    "mannwhitneyu(affiliate_videos['duration'].tolist(), non_affiliate_videos['duration'].tolist())"
   ]
  },
  {
   "cell_type": "markdown",
   "metadata": {},
   "source": [
    "Videos with affiliate links are significantly longer than those without. "
   ]
  },
  {
   "cell_type": "markdown",
   "metadata": {},
   "source": [
    "#### Affiliate video likes\n",
    "How do the likes of the affiliate videos vary?"
   ]
  },
  {
   "cell_type": "code",
   "execution_count": 49,
   "metadata": {},
   "outputs": [
    {
     "data": {
      "text/plain": [
       "count      3472.000000\n",
       "mean       2564.901786\n",
       "std       19411.860729\n",
       "min           0.000000\n",
       "25%           0.000000\n",
       "50%           2.000000\n",
       "75%         179.000000\n",
       "max      517739.000000\n",
       "Name: likeCount, dtype: float64"
      ]
     },
     "execution_count": 49,
     "metadata": {},
     "output_type": "execute_result"
    }
   ],
   "source": [
    "affiliate_videos['likeCount'].describe()"
   ]
  },
  {
   "cell_type": "markdown",
   "metadata": {},
   "source": [
    "Is this different from the non-affiliate videos?"
   ]
  },
  {
   "cell_type": "code",
   "execution_count": 50,
   "metadata": {},
   "outputs": [
    {
     "data": {
      "text/plain": [
       "count    512527.000000\n",
       "mean        211.972171\n",
       "std        4863.913527\n",
       "min           0.000000\n",
       "25%           0.000000\n",
       "50%           1.000000\n",
       "75%           3.000000\n",
       "max      916814.000000\n",
       "Name: likeCount, dtype: float64"
      ]
     },
     "execution_count": 50,
     "metadata": {},
     "output_type": "execute_result"
    }
   ],
   "source": [
    "non_affiliate_videos = video[~video['id'].isin(affiliate_urls['videoId'].tolist())]\n",
    "non_affiliate_videos['likeCount'].describe()"
   ]
  },
  {
   "cell_type": "code",
   "execution_count": 51,
   "metadata": {},
   "outputs": [],
   "source": [
    "dat_affiliate = utils.cdf(np.log10(affiliate_videos['likeCount'] + 1), 'likeCount')\n",
    "dat_affiliate['Type'] = 'Affiliate videos'\n",
    "dat_non_affiliate = utils.cdf(np.log10(non_affiliate_videos['likeCount'] + 1), 'likeCount')\n",
    "dat_non_affiliate['Type'] = 'Non-affiliate videos'\n",
    "dat_all = utils.cdf(np.log10(video['likeCount'] + 1), 'likeCount')\n",
    "dat_all['Type'] = 'All'\n",
    "dat = pd.concat([dat_affiliate, dat_non_affiliate, dat_all])"
   ]
  },
  {
   "cell_type": "code",
   "execution_count": 52,
   "metadata": {},
   "outputs": [
    {
     "data": {
      "image/png": "[encoded data removed]",
      "text/plain": [
       "<matplotlib.figure.Figure at 0x1b5ed6510>"
      ]
     },
     "metadata": {},
     "output_type": "display_data"
    },
    {
     "data": {
      "text/plain": [
       "<ggplot: (459200169)>"
      ]
     },
     "execution_count": 52,
     "metadata": {},
     "output_type": "execute_result"
    }
   ],
   "source": [
    "ggplot(dat, aes(x = 'likeCount', y='Fraction', color='Type')) + geom_path() + xlab('Log(Like Count)')"
   ]
  },
  {
   "cell_type": "code",
   "execution_count": 53,
   "metadata": {},
   "outputs": [
    {
     "data": {
      "text/plain": [
       "MannwhitneyuResult(statistic=696098700.0, pvalue=1.7007703225898032e-122)"
      ]
     },
     "execution_count": 53,
     "metadata": {},
     "output_type": "execute_result"
    }
   ],
   "source": [
    "mannwhitneyu(affiliate_videos['likeCount'].tolist(), non_affiliate_videos['likeCount'].tolist())"
   ]
  },
  {
   "cell_type": "markdown",
   "metadata": {},
   "source": [
    "Videos with affiliate links have significantly more likes than ones without. "
   ]
  },
  {
   "cell_type": "markdown",
   "metadata": {},
   "source": [
    "#### Affiliate video dislikes\n",
    "How do the dislikes of the affiliate videos vary?"
   ]
  },
  {
   "cell_type": "code",
   "execution_count": 54,
   "metadata": {},
   "outputs": [
    {
     "data": {
      "text/plain": [
       "count     3472.000000\n",
       "mean       127.872120\n",
       "std       1338.174649\n",
       "min          0.000000\n",
       "25%          0.000000\n",
       "50%          0.000000\n",
       "75%          8.000000\n",
       "max      60700.000000\n",
       "Name: dislikeCount, dtype: float64"
      ]
     },
     "execution_count": 54,
     "metadata": {},
     "output_type": "execute_result"
    }
   ],
   "source": [
    "affiliate_videos['dislikeCount'].describe()"
   ]
  },
  {
   "cell_type": "markdown",
   "metadata": {},
   "source": [
    "Is this different from the non-affiliate videos?"
   ]
  },
  {
   "cell_type": "code",
   "execution_count": 55,
   "metadata": {},
   "outputs": [
    {
     "data": {
      "text/plain": [
       "count    512527.000000\n",
       "mean         12.538569\n",
       "std         380.989172\n",
       "min           0.000000\n",
       "25%           0.000000\n",
       "50%           0.000000\n",
       "75%           0.000000\n",
       "max      128736.000000\n",
       "Name: dislikeCount, dtype: float64"
      ]
     },
     "execution_count": 55,
     "metadata": {},
     "output_type": "execute_result"
    }
   ],
   "source": [
    "non_affiliate_videos = video[~video['id'].isin(affiliate_urls['videoId'].tolist())]\n",
    "non_affiliate_videos['dislikeCount'].describe()"
   ]
  },
  {
   "cell_type": "code",
   "execution_count": 56,
   "metadata": {},
   "outputs": [],
   "source": [
    "dat_affiliate = utils.cdf(np.log10(affiliate_videos['dislikeCount'] + 1), 'dislikeCount')\n",
    "dat_affiliate['Type'] = 'Affiliate videos'\n",
    "dat_non_affiliate = utils.cdf(np.log10(non_affiliate_videos['dislikeCount'] + 1), 'dislikeCount')\n",
    "dat_non_affiliate['Type'] = 'Non-affiliate videos'\n",
    "dat_all = utils.cdf(np.log10(video['dislikeCount'] + 1), 'dislikeCount')\n",
    "dat_all['Type'] = 'All'\n",
    "dat = pd.concat([dat_affiliate, dat_non_affiliate, dat_all])"
   ]
  },
  {
   "cell_type": "code",
   "execution_count": 57,
   "metadata": {},
   "outputs": [
    {
     "data": {
      "image/png": "[encoded data removed]",
      "text/plain": [
       "<matplotlib.figure.Figure at 0x1b5e4db50>"
      ]
     },
     "metadata": {},
     "output_type": "display_data"
    },
    {
     "data": {
      "text/plain": [
       "<ggplot: (459475225)>"
      ]
     },
     "execution_count": 57,
     "metadata": {},
     "output_type": "execute_result"
    }
   ],
   "source": [
    "ggplot(dat, aes(x = 'dislikeCount', y='Fraction', color='Type')) + geom_path() + xlab('Log(Dislike Count)')"
   ]
  },
  {
   "cell_type": "code",
   "execution_count": 58,
   "metadata": {},
   "outputs": [
    {
     "data": {
      "text/plain": [
       "MannwhitneyuResult(statistic=651975914.0, pvalue=0.0)"
      ]
     },
     "execution_count": 58,
     "metadata": {},
     "output_type": "execute_result"
    }
   ],
   "source": [
    "mannwhitneyu(affiliate_videos['dislikeCount'].tolist(), non_affiliate_videos['dislikeCount'].tolist())"
   ]
  },
  {
   "cell_type": "markdown",
   "metadata": {},
   "source": [
    "Videos with affiliate links have significantly more dislikes than ones without. "
   ]
  },
  {
   "cell_type": "markdown",
   "metadata": {},
   "source": [
    "#### Affiliate video comments\n",
    "How do the comments of the affiliate videos vary?"
   ]
  },
  {
   "cell_type": "code",
   "execution_count": 59,
   "metadata": {},
   "outputs": [
    {
     "data": {
      "text/plain": [
       "count      3472.000000\n",
       "mean        336.700749\n",
       "std        5147.470671\n",
       "min           0.000000\n",
       "25%           0.000000\n",
       "50%           0.000000\n",
       "75%          38.000000\n",
       "max      285925.000000\n",
       "Name: commentCount, dtype: float64"
      ]
     },
     "execution_count": 59,
     "metadata": {},
     "output_type": "execute_result"
    }
   ],
   "source": [
    "affiliate_videos['commentCount'].describe()"
   ]
  },
  {
   "cell_type": "markdown",
   "metadata": {},
   "source": [
    "Is this different from the non-affiliate videos?"
   ]
  },
  {
   "cell_type": "code",
   "execution_count": 60,
   "metadata": {},
   "outputs": [
    {
     "data": {
      "text/plain": [
       "count    512527.000000\n",
       "mean         26.056725\n",
       "std         542.339765\n",
       "min           0.000000\n",
       "25%           0.000000\n",
       "50%           0.000000\n",
       "75%           1.000000\n",
       "max      103048.000000\n",
       "Name: commentCount, dtype: float64"
      ]
     },
     "execution_count": 60,
     "metadata": {},
     "output_type": "execute_result"
    }
   ],
   "source": [
    "non_affiliate_videos = video[~video['id'].isin(affiliate_urls['videoId'].tolist())]\n",
    "non_affiliate_videos['commentCount'].describe()"
   ]
  },
  {
   "cell_type": "code",
   "execution_count": 61,
   "metadata": {},
   "outputs": [],
   "source": [
    "dat_affiliate = utils.cdf(np.log10(affiliate_videos['commentCount'] + 1), 'commentCount')\n",
    "dat_affiliate['Type'] = 'Affiliate videos'\n",
    "dat_non_affiliate = utils.cdf(np.log10(non_affiliate_videos['commentCount'] + 1), 'commentCount')\n",
    "dat_non_affiliate['Type'] = 'Non-affiliate videos'\n",
    "dat_all = utils.cdf(np.log10(video['commentCount'] + 1), 'commentCount')\n",
    "dat_all['Type'] = 'All'\n",
    "dat = pd.concat([dat_affiliate, dat_non_affiliate, dat_all])"
   ]
  },
  {
   "cell_type": "code",
   "execution_count": 62,
   "metadata": {},
   "outputs": [
    {
     "data": {
      "image/png": "[encoded data removed]",
      "text/plain": [
       "<matplotlib.figure.Figure at 0x1b5d938d0>"
      ]
     },
     "metadata": {},
     "output_type": "display_data"
    },
    {
     "data": {
      "text/plain": [
       "<ggplot: (459464665)>"
      ]
     },
     "execution_count": 62,
     "metadata": {},
     "output_type": "execute_result"
    }
   ],
   "source": [
    "ggplot(dat, aes(x = 'commentCount', y='Fraction', color='Type')) + geom_path() + xlab('Log(Comment Count)')"
   ]
  },
  {
   "cell_type": "code",
   "execution_count": 63,
   "metadata": {},
   "outputs": [
    {
     "data": {
      "text/plain": [
       "MannwhitneyuResult(statistic=638757865.0, pvalue=1.2285114845545303e-287)"
      ]
     },
     "execution_count": 63,
     "metadata": {},
     "output_type": "execute_result"
    }
   ],
   "source": [
    "mannwhitneyu(affiliate_videos['commentCount'].tolist(), non_affiliate_videos['commentCount'].tolist())"
   ]
  },
  {
   "cell_type": "markdown",
   "metadata": {},
   "source": [
    "Videos with affiliate links have significantly more comments than ones without. "
   ]
  },
  {
   "cell_type": "markdown",
   "metadata": {},
   "source": [
    "### Examining the affiliate video descriptions"
   ]
  },
  {
   "cell_type": "markdown",
   "metadata": {},
   "source": [
    "What languages are these descriptions in?"
   ]
  },
  {
   "cell_type": "code",
   "execution_count": 64,
   "metadata": {},
   "outputs": [
    {
     "data": {
      "text/plain": [
       "en         2259\n",
       "de          397\n",
       "ru          286\n",
       "ja          103\n",
       "pt          102\n",
       "es           69\n",
       "fr           51\n",
       "Unknown      50\n",
       "it           38\n",
       "fi           19\n",
       "af           14\n",
       "ca           13\n",
       "sv           13\n",
       "tr            9\n",
       "id            7\n",
       "uk            7\n",
       "bg            7\n",
       "th            5\n",
       "nl            3\n",
       "hu            2\n",
       "tl            2\n",
       "et            2\n",
       "pl            2\n",
       "ar            2\n",
       "he            2\n",
       "vi            1\n",
       "cy            1\n",
       "el            1\n",
       "da            1\n",
       "no            1\n",
       "ko            1\n",
       "hr            1\n",
       "hi            1\n",
       "Name: description_language, dtype: int64"
      ]
     },
     "execution_count": 64,
     "metadata": {},
     "output_type": "execute_result"
    }
   ],
   "source": [
    "def get_language(x):\n",
    "    language = 'Unknown'\n",
    "    try:\n",
    "        language = detect(x.description.strip())\n",
    "    except:\n",
    "        pass\n",
    "    return language\n",
    "\n",
    "affiliate_videos['description_language'] = affiliate_videos.apply(get_language, axis=1)\n",
    "affiliate_videos['description_language'].value_counts()"
   ]
  },
  {
   "cell_type": "code",
   "execution_count": 65,
   "metadata": {},
   "outputs": [
    {
     "data": {
      "image/png": "[encoded data removed]",
      "text/plain": [
       "<matplotlib.figure.Figure at 0x1b5e4d610>"
      ]
     },
     "metadata": {},
     "output_type": "display_data"
    }
   ],
   "source": [
    "((affiliate_videos['description_language'].value_counts() * 100) / sum(affiliate_videos['description_language'].value_counts())).plot.bar()\n",
    "plt.show()"
   ]
  },
  {
   "cell_type": "markdown",
   "metadata": {},
   "source": [
    "How many lines do these descriptions contain?"
   ]
  },
  {
   "cell_type": "code",
   "execution_count": 66,
   "metadata": {},
   "outputs": [
    {
     "data": {
      "text/plain": [
       "count    3472.000000\n",
       "mean       21.915611\n",
       "std        25.773722\n",
       "min         1.000000\n",
       "25%         3.000000\n",
       "50%        14.000000\n",
       "75%        32.000000\n",
       "max       504.000000\n",
       "Name: description_line_count, dtype: float64"
      ]
     },
     "execution_count": 66,
     "metadata": {},
     "output_type": "execute_result"
    }
   ],
   "source": [
    "affiliate_videos['description_line_count'] = affiliate_videos.apply(lambda x: len(x.description.splitlines()), axis=1)\n",
    "affiliate_videos['description_line_count'].describe()"
   ]
  },
  {
   "cell_type": "code",
   "execution_count": 67,
   "metadata": {},
   "outputs": [
    {
     "data": {
      "image/png": "[encoded data removed]",
      "text/plain": [
       "<matplotlib.figure.Figure at 0x1b56b6d10>"
      ]
     },
     "metadata": {},
     "output_type": "display_data"
    },
    {
     "data": {
      "text/plain": [
       "<ggplot: (458667625)>"
      ]
     },
     "execution_count": 67,
     "metadata": {},
     "output_type": "execute_result"
    }
   ],
   "source": [
    "dat = utils.cdf(np.log10(affiliate_videos['description_line_count']), 'description_line_count')\n",
    "ggplot(dat, aes(x = 'description_line_count', y='Fraction')) + geom_path() + xlab('Log(Line Count)')"
   ]
  },
  {
   "cell_type": "markdown",
   "metadata": {},
   "source": [
    "How many characters do these descriptions contain?"
   ]
  },
  {
   "cell_type": "code",
   "execution_count": 68,
   "metadata": {},
   "outputs": [
    {
     "data": {
      "text/plain": [
       "count    3472.000000\n",
       "mean      895.500000\n",
       "std       863.866224\n",
       "min        20.000000\n",
       "25%       231.000000\n",
       "50%       661.000000\n",
       "75%      1262.000000\n",
       "max      4411.000000\n",
       "Name: description_character_count, dtype: float64"
      ]
     },
     "execution_count": 68,
     "metadata": {},
     "output_type": "execute_result"
    }
   ],
   "source": [
    "affiliate_videos['description_character_count'] = affiliate_videos.apply(lambda x: len(x.description) - x.description.count('\\n') - x.description.count(' '), axis=1)\n",
    "affiliate_videos['description_character_count'].describe()"
   ]
  },
  {
   "cell_type": "code",
   "execution_count": 69,
   "metadata": {},
   "outputs": [
    {
     "data": {
      "image/png": "[encoded data removed]",
      "text/plain": [
       "<matplotlib.figure.Figure at 0x1b55c4c90>"
      ]
     },
     "metadata": {},
     "output_type": "display_data"
    },
    {
     "data": {
      "text/plain": [
       "<ggplot: (458605609)>"
      ]
     },
     "execution_count": 69,
     "metadata": {},
     "output_type": "execute_result"
    }
   ],
   "source": [
    "dat = utils.cdf(np.log10(affiliate_videos['description_character_count']), 'description_character_count')\n",
    "ggplot(dat, aes(x = 'description_character_count', y='Fraction')) + geom_path() + xlab('Log(Character Count)')"
   ]
  },
  {
   "cell_type": "markdown",
   "metadata": {},
   "source": [
    "How many affiliate URLs are in each affiliate video?"
   ]
  },
  {
   "cell_type": "code",
   "execution_count": 70,
   "metadata": {},
   "outputs": [
    {
     "data": {
      "text/plain": [
       "['autoId', 'videoId', 'url', 'lineNumber']"
      ]
     },
     "execution_count": 70,
     "metadata": {},
     "output_type": "execute_result"
    }
   ],
   "source": [
    "list(affiliate_urls.columns.values)"
   ]
  },
  {
   "cell_type": "code",
   "execution_count": 71,
   "metadata": {},
   "outputs": [
    {
     "data": {
      "text/plain": [
       "count    3472.000000\n",
       "mean        2.854839\n",
       "std         4.467006\n",
       "min         1.000000\n",
       "25%         1.000000\n",
       "50%         1.000000\n",
       "75%         2.000000\n",
       "max        62.000000\n",
       "Name: autoId, dtype: float64"
      ]
     },
     "execution_count": 71,
     "metadata": {},
     "output_type": "execute_result"
    }
   ],
   "source": [
    "affiliate_urls.groupby('videoId').count()['autoId'].describe()"
   ]
  },
  {
   "cell_type": "code",
   "execution_count": 72,
   "metadata": {},
   "outputs": [
    {
     "data": {
      "image/png": "[encoded data removed]",
      "text/plain": [
       "<matplotlib.figure.Figure at 0x1b5761d10>"
      ]
     },
     "metadata": {},
     "output_type": "display_data"
    },
    {
     "data": {
      "text/plain": [
       "<ggplot: (458508297)>"
      ]
     },
     "execution_count": 72,
     "metadata": {},
     "output_type": "execute_result"
    }
   ],
   "source": [
    "dat = utils.cdf(np.log10(affiliate_urls.groupby('videoId').count()['autoId']), 'autoId')\n",
    "ggplot(dat, aes(x = 'autoId', y='Fraction')) + geom_path() + xlab('Log(Count of Affiliate URLs)')"
   ]
  },
  {
   "cell_type": "markdown",
   "metadata": {},
   "source": [
    "Moving forward, let's only examine the videos that contain descriptions in English."
   ]
  },
  {
   "cell_type": "code",
   "execution_count": 73,
   "metadata": {},
   "outputs": [],
   "source": [
    "affiliate_videos_en = affiliate_videos[affiliate_videos['description_language'] == 'en'].copy()"
   ]
  },
  {
   "cell_type": "markdown",
   "metadata": {},
   "source": [
    "Next, let's cluster these by the sentences they contain. First, let's write routines to tokenize the sentences."
   ]
  },
  {
   "cell_type": "code",
   "execution_count": 80,
   "metadata": {},
   "outputs": [],
   "source": [
    "stemmer = PorterStemmer()\n",
    "\n",
    "def tokenize(line):\n",
    "    if (line is None):\n",
    "        line = ''\n",
    "    printable = set(string.printable)\n",
    "    line = ''.join(filter(lambda x: x in printable, line)) \n",
    "    stopwords = nltk.corpus.stopwords.words('english')\n",
    "\n",
    "    tokenizer = nltk.RegexpTokenizer(r'[a-zA-Z]*\\'[a-zA-Z]*|\\w+')\n",
    "    \n",
    "    tokens = []\n",
    "    \n",
    "    line = re.sub(r'(http[s]?://|www.)(?:[a-zA-Z]|[0-9]|[$-_@.&+]*|[!*\\\\(\\\\),]|(?:%[0-9a-fA-F][0-9a-fA-F]))*', '', line).lower()\n",
    "    tokens.extend(tokenizer.tokenize(line))\n",
    "    \n",
    "    tokens_ = [f.strip(string.punctuation) for f in tokens]\n",
    "    tokens_ = [f for f in tokens_ if f != '' and f not in stopwords and len(f) != 1]\n",
    "    tokens_ = [f for f in tokens_ if not (f.isdigit() or f[0] == '-' and f[1:].isdigit())]\n",
    "    tokens_ = [stemmer.stem(f) for f in tokens_]\n",
    "\n",
    "    return tokens_\n"
   ]
  },
  {
   "cell_type": "markdown",
   "metadata": {},
   "source": [
    "Next, let's divide the documents into lines, and expand the dataframe."
   ]
  },
  {
   "cell_type": "code",
   "execution_count": 81,
   "metadata": {},
   "outputs": [],
   "source": [
    "# Add a sentence number value here\n",
    "rows = []\n",
    "\n",
    "def description_parse(desc):\n",
    "    sentences = []\n",
    "    for line in desc.splitlines():\n",
    "        for sent in sent_tokenize(line):\n",
    "            sentences.append(sent)\n",
    "    \n",
    "    return sentences\n",
    "\n",
    "affiliate_videos_en.reset_index().apply(lambda row: [rows.append([row['id'], row['description'], sent])\n",
    "                                       for sent in description_parse(row.description) if (len(tokenize(sent)) != 0)], axis = 1)\n",
    "affiliate_videos_en_new = pd.DataFrame(rows, columns=['id', 'description', 'sentence'])"
   ]
  },
  {
   "cell_type": "markdown",
   "metadata": {},
   "source": [
    "How many sentences do we have?"
   ]
  },
  {
   "cell_type": "code",
   "execution_count": 82,
   "metadata": {},
   "outputs": [
    {
     "data": {
      "text/plain": [
       "36105"
      ]
     },
     "execution_count": 82,
     "metadata": {},
     "output_type": "execute_result"
    }
   ],
   "source": [
    "len(affiliate_videos_en_new.index)"
   ]
  },
  {
   "cell_type": "markdown",
   "metadata": {},
   "source": [
    "How many words do we have in each sentence?"
   ]
  },
  {
   "cell_type": "code",
   "execution_count": 83,
   "metadata": {},
   "outputs": [
    {
     "data": {
      "text/plain": [
       "count    36105.000000\n",
       "mean         8.371666\n",
       "std         12.443537\n",
       "min          1.000000\n",
       "25%          3.000000\n",
       "50%          5.000000\n",
       "75%         10.000000\n",
       "max        648.000000\n",
       "Name: sentence_word_count, dtype: float64"
      ]
     },
     "execution_count": 83,
     "metadata": {},
     "output_type": "execute_result"
    }
   ],
   "source": [
    "affiliate_videos_en_new['sentence_word_count'] = affiliate_videos_en_new.apply(lambda x: len(x.sentence.split(' ')), axis=1)\n",
    "affiliate_videos_en_new['sentence_word_count'].describe()"
   ]
  },
  {
   "cell_type": "markdown",
   "metadata": {},
   "source": [
    "Next, let's create a Tf-Idf representation of the lines."
   ]
  },
  {
   "cell_type": "code",
   "execution_count": 84,
   "metadata": {},
   "outputs": [],
   "source": [
    "countVec = CountVectorizer(tokenizer=tokenize, binary=True).fit(affiliate_videos_en_new['sentence'])"
   ]
  },
  {
   "cell_type": "markdown",
   "metadata": {},
   "source": [
    "What is the size of the vocabulary?"
   ]
  },
  {
   "cell_type": "code",
   "execution_count": 85,
   "metadata": {},
   "outputs": [
    {
     "data": {
      "text/plain": [
       "20056"
      ]
     },
     "execution_count": 85,
     "metadata": {},
     "output_type": "execute_result"
    }
   ],
   "source": [
    "len(countVec.vocabulary_)"
   ]
  },
  {
   "cell_type": "markdown",
   "metadata": {},
   "source": [
    "Let's create the bag of words representation."
   ]
  },
  {
   "cell_type": "code",
   "execution_count": 86,
   "metadata": {},
   "outputs": [],
   "source": [
    "lineVec = countVec.transform(affiliate_videos_en_new['sentence'])"
   ]
  },
  {
   "cell_type": "markdown",
   "metadata": {},
   "source": [
    "Next, let's create the Tf-Idf representation."
   ]
  },
  {
   "cell_type": "code",
   "execution_count": 87,
   "metadata": {},
   "outputs": [],
   "source": [
    "tfidfTrans = TfidfTransformer().fit(lineVec)\n",
    "tfIdfMatrix = tfidfTrans.transform(lineVec)"
   ]
  },
  {
   "cell_type": "markdown",
   "metadata": {},
   "source": [
    "What is the size of the matrix?"
   ]
  },
  {
   "cell_type": "code",
   "execution_count": 88,
   "metadata": {},
   "outputs": [
    {
     "data": {
      "text/plain": [
       "(36105, 20056)"
      ]
     },
     "execution_count": 88,
     "metadata": {},
     "output_type": "execute_result"
    }
   ],
   "source": [
    "tfIdfMatrix.shape"
   ]
  },
  {
   "cell_type": "markdown",
   "metadata": {},
   "source": [
    "From this Tf-Idf matrix, let's create a distance matrix to cluster the lines. We'll try several different approaches in heirarchial clustering."
   ]
  },
  {
   "cell_type": "markdown",
   "metadata": {},
   "source": [
    "#### Ward and Euclidean"
   ]
  },
  {
   "cell_type": "markdown",
   "metadata": {},
   "source": [
    "First, let's compute the euclidean distance matrix from the above."
   ]
  },
  {
   "cell_type": "code",
   "execution_count": 89,
   "metadata": {},
   "outputs": [],
   "source": [
    "dist = euclidean_distances(lineVec)"
   ]
  },
  {
   "cell_type": "markdown",
   "metadata": {},
   "source": [
    "Next, let's convert this to vector format. This is necessary as the linkage method below requires it in this format."
   ]
  },
  {
   "cell_type": "code",
   "execution_count": 90,
   "metadata": {},
   "outputs": [],
   "source": [
    "distVec = squareform(dist, checks = False)"
   ]
  },
  {
   "cell_type": "markdown",
   "metadata": {},
   "source": [
    "Finally, let's cluster the lines."
   ]
  },
  {
   "cell_type": "code",
   "execution_count": 91,
   "metadata": {},
   "outputs": [],
   "source": [
    "res = fastcluster.linkage(distVec, method = 'ward', preserve_input = False)"
   ]
  },
  {
   "cell_type": "markdown",
   "metadata": {},
   "source": [
    "Let's visualize the clusters."
   ]
  },
  {
   "cell_type": "code",
   "execution_count": 92,
   "metadata": {},
   "outputs": [
    {
     "data": {
      "image/png": "[encoded data removed]",
      "text/plain": [
       "<matplotlib.figure.Figure at 0x19f7d9790>"
      ]
     },
     "metadata": {},
     "output_type": "display_data"
    }
   ],
   "source": [
    "plt.figure(figsize=(35, 10))\n",
    "plt.xlabel('Line Index')\n",
    "plt.ylabel('Distance')\n",
    "dendrogram(\n",
    "    res,\n",
    "    leaf_rotation=90.,  \n",
    "    leaf_font_size=8.,  \n",
    ")\n",
    "plt.show()"
   ]
  },
  {
   "cell_type": "markdown",
   "metadata": {},
   "source": [
    "Let's write the cluster numbers to a column in the data, and output the file."
   ]
  },
  {
   "cell_type": "code",
   "execution_count": 93,
   "metadata": {},
   "outputs": [],
   "source": [
    "affiliate_videos_en_new['ward_euclidean_cluster'] = fcluster(res, 5, criterion='distance')"
   ]
  },
  {
   "cell_type": "code",
   "execution_count": 94,
   "metadata": {},
   "outputs": [],
   "source": [
    "#affiliate_videos_en_new.to_csv('clusters.csv', encoding='utf-8', columns=['id', 'sentence', 'ward_euclidean_cluster'], index=False)"
   ]
  },
  {
   "cell_type": "markdown",
   "metadata": {},
   "source": [
    "### Mark the required disclosures\n",
    "\n",
    "First, mark the affiliate disclosures"
   ]
  },
  {
   "cell_type": "code",
   "execution_count": 111,
   "metadata": {
    "scrolled": true
   },
   "outputs": [],
   "source": [
    "affiliate_videos_en_new['affiliate_link_disclosure'] = False\n",
    "affiliate_videos_en_new.loc[affiliate_videos_en_new['ward_euclidean_cluster'].isin([372,382,383,384,385,388,389,390]), 'affiliate_link_disclosure'] = True\n",
    "\n",
    "affiliate_videos_en_new['affiliate_link_expl_disclosure'] = False\n",
    "affiliate_videos_en_new.loc[affiliate_videos_en_new['ward_euclidean_cluster'].isin([370,377,378,379,380,381,386,387]), 'affiliate_link_expl_disclosure'] = True\n",
    "\n",
    "affiliate_videos_en_new['support_channel_disclosure'] = False\n",
    "affiliate_videos_en_new.loc[affiliate_videos_en_new['ward_euclidean_cluster'].isin([363,364,366,367,368,369]), 'support_channel_disclosure'] = True"
   ]
  },
  {
   "cell_type": "code",
   "execution_count": 112,
   "metadata": {},
   "outputs": [],
   "source": [
    "affiliate_videos_en['affiliate_link_disclosure'] = affiliate_videos_en.apply(lambda x: True if x.id in affiliate_videos_en_new[affiliate_videos_en_new['affiliate_link_disclosure'] == True]['id'].unique() else False, axis = 1)\n",
    "affiliate_videos_en['affiliate_link_expl_disclosure'] = affiliate_videos_en.apply(lambda x: True if x.id in affiliate_videos_en_new[affiliate_videos_en_new['affiliate_link_expl_disclosure'] == True]['id'].unique() else False, axis = 1)\n",
    "affiliate_videos_en['support_channel_disclosure'] = affiliate_videos_en.apply(lambda x: True if x.id in affiliate_videos_en_new[affiliate_videos_en_new['support_channel_disclosure'] == True]['id'].unique() else False, axis = 1)"
   ]
  },
  {
   "cell_type": "code",
   "execution_count": 113,
   "metadata": {},
   "outputs": [
    {
     "data": {
      "text/plain": [
       "False    2092\n",
       "True      158\n",
       "Name: affiliate_link_disclosure, dtype: int64"
      ]
     },
     "execution_count": 113,
     "metadata": {},
     "output_type": "execute_result"
    }
   ],
   "source": [
    "affiliate_videos_en['affiliate_link_disclosure'].value_counts()"
   ]
  },
  {
   "cell_type": "code",
   "execution_count": 114,
   "metadata": {},
   "outputs": [
    {
     "data": {
      "text/plain": [
       "False    2209\n",
       "True       41\n",
       "Name: affiliate_link_expl_disclosure, dtype: int64"
      ]
     },
     "execution_count": 114,
     "metadata": {},
     "output_type": "execute_result"
    }
   ],
   "source": [
    "affiliate_videos_en['affiliate_link_expl_disclosure'].value_counts()"
   ]
  },
  {
   "cell_type": "code",
   "execution_count": 115,
   "metadata": {},
   "outputs": [
    {
     "data": {
      "text/plain": [
       "False    2195\n",
       "True       55\n",
       "Name: support_channel_disclosure, dtype: int64"
      ]
     },
     "execution_count": 115,
     "metadata": {},
     "output_type": "execute_result"
    }
   ],
   "source": [
    "affiliate_videos_en['support_channel_disclosure'].value_counts()"
   ]
  },
  {
   "cell_type": "code",
   "execution_count": 123,
   "metadata": {},
   "outputs": [
    {
     "data": {
      "text/plain": [
       "False    2014\n",
       "True      236\n",
       "Name: disclosure_present, dtype: int64"
      ]
     },
     "execution_count": 123,
     "metadata": {},
     "output_type": "execute_result"
    }
   ],
   "source": [
    "affiliate_videos_en['disclosure_present'] = affiliate_videos_en.apply(lambda x: True if x.affiliate_link_disclosure == True or x.affiliate_link_expl_disclosure == True or x.support_channel_disclosure == True else False, axis = 1)\n",
    "affiliate_videos_en['disclosure_present'].value_counts()"
   ]
  },
  {
   "cell_type": "code",
   "execution_count": 129,
   "metadata": {},
   "outputs": [
    {
     "data": {
      "text/plain": [
       "141"
      ]
     },
     "execution_count": 129,
     "metadata": {},
     "output_type": "execute_result"
    }
   ],
   "source": [
    "len(affiliate_videos_en[affiliate_videos_en['affiliate_link_disclosure'] == True]['channelId'].unique())"
   ]
  },
  {
   "cell_type": "code",
   "execution_count": 130,
   "metadata": {},
   "outputs": [
    {
     "data": {
      "text/plain": [
       "39"
      ]
     },
     "execution_count": 130,
     "metadata": {},
     "output_type": "execute_result"
    }
   ],
   "source": [
    "len(affiliate_videos_en[affiliate_videos_en['affiliate_link_expl_disclosure'] == True]['channelId'].unique())"
   ]
  },
  {
   "cell_type": "code",
   "execution_count": 132,
   "metadata": {},
   "outputs": [
    {
     "data": {
      "text/plain": [
       "45"
      ]
     },
     "execution_count": 132,
     "metadata": {},
     "output_type": "execute_result"
    }
   ],
   "source": [
    "len(affiliate_videos_en[affiliate_videos_en['support_channel_disclosure'] == True]['channelId'].unique())"
   ]
  },
  {
   "cell_type": "code",
   "execution_count": 133,
   "metadata": {},
   "outputs": [
    {
     "data": {
      "text/plain": [
       "208"
      ]
     },
     "execution_count": 133,
     "metadata": {},
     "output_type": "execute_result"
    }
   ],
   "source": [
    "len(affiliate_videos_en[affiliate_videos_en['disclosure_present'] == True]['channelId'].unique())"
   ]
  },
  {
   "cell_type": "code",
   "execution_count": 128,
   "metadata": {},
   "outputs": [
    {
     "data": {
      "text/plain": [
       "1996"
      ]
     },
     "execution_count": 128,
     "metadata": {},
     "output_type": "execute_result"
    }
   ],
   "source": [
    "len(affiliate_videos_en['channelId'].unique())"
   ]
  },
  {
   "cell_type": "markdown",
   "metadata": {},
   "source": [
    "How do the disclosures vary by category?"
   ]
  },
  {
   "cell_type": "code",
   "execution_count": 138,
   "metadata": {},
   "outputs": [],
   "source": [
    "dat = pd.DataFrame({'Count': affiliate_videos_en[affiliate_videos_en['disclosure_present'] == True]['categoryId'].value_counts(),\n",
    "             'Total': affiliate_videos_en['categoryId'].value_counts(),\n",
    "    'Influencer_Disclosing': affiliate_videos_en[affiliate_videos_en['disclosure_present'] == True][['categoryId','channelId']].groupby('categoryId').channelId.nunique(),\n",
    "'Total_Influncers': affiliate_videos_en[['categoryId','channelId']].groupby('categoryId').channelId.nunique()})\n",
    "dat['perc'] = (dat['Count'] * 100) / dat['Total']"
   ]
  },
  {
   "cell_type": "code",
   "execution_count": 139,
   "metadata": {},
   "outputs": [
    {
     "data": {
      "text/html": [
       "<div>\n",
       "<style scoped>\n",
       "    .dataframe tbody tr th:only-of-type {\n",
       "        vertical-align: middle;\n",
       "    }\n",
       "\n",
       "    .dataframe tbody tr th {\n",
       "        vertical-align: top;\n",
       "    }\n",
       "\n",
       "    .dataframe thead th {\n",
       "        text-align: right;\n",
       "    }\n",
       "</style>\n",
       "<table border=\"1\" class=\"dataframe\">\n",
       "  <thead>\n",
       "    <tr style=\"text-align: right;\">\n",
       "      <th></th>\n",
       "      <th>Count</th>\n",
       "      <th>Influencer_Disclosing</th>\n",
       "      <th>TOtal Influncers</th>\n",
       "      <th>Total</th>\n",
       "      <th>perc</th>\n",
       "    </tr>\n",
       "  </thead>\n",
       "  <tbody>\n",
       "    <tr>\n",
       "      <th>People &amp; Blogs</th>\n",
       "      <td>43</td>\n",
       "      <td>40</td>\n",
       "      <td>443</td>\n",
       "      <td>485</td>\n",
       "      <td>8.865979</td>\n",
       "    </tr>\n",
       "    <tr>\n",
       "      <th>Music</th>\n",
       "      <td>7</td>\n",
       "      <td>6</td>\n",
       "      <td>366</td>\n",
       "      <td>396</td>\n",
       "      <td>1.767677</td>\n",
       "    </tr>\n",
       "    <tr>\n",
       "      <th>Howto &amp; Style</th>\n",
       "      <td>63</td>\n",
       "      <td>59</td>\n",
       "      <td>246</td>\n",
       "      <td>266</td>\n",
       "      <td>23.684211</td>\n",
       "    </tr>\n",
       "    <tr>\n",
       "      <th>Entertainment</th>\n",
       "      <td>24</td>\n",
       "      <td>21</td>\n",
       "      <td>207</td>\n",
       "      <td>214</td>\n",
       "      <td>11.214953</td>\n",
       "    </tr>\n",
       "    <tr>\n",
       "      <th>Gaming</th>\n",
       "      <td>23</td>\n",
       "      <td>21</td>\n",
       "      <td>152</td>\n",
       "      <td>205</td>\n",
       "      <td>11.219512</td>\n",
       "    </tr>\n",
       "    <tr>\n",
       "      <th>Film &amp; Animation</th>\n",
       "      <td>9</td>\n",
       "      <td>9</td>\n",
       "      <td>143</td>\n",
       "      <td>185</td>\n",
       "      <td>4.864865</td>\n",
       "    </tr>\n",
       "    <tr>\n",
       "      <th>Travel &amp; Events</th>\n",
       "      <td>7</td>\n",
       "      <td>7</td>\n",
       "      <td>150</td>\n",
       "      <td>170</td>\n",
       "      <td>4.117647</td>\n",
       "    </tr>\n",
       "    <tr>\n",
       "      <th>Science &amp; Technology</th>\n",
       "      <td>14</td>\n",
       "      <td>13</td>\n",
       "      <td>133</td>\n",
       "      <td>144</td>\n",
       "      <td>9.722222</td>\n",
       "    </tr>\n",
       "    <tr>\n",
       "      <th>Education</th>\n",
       "      <td>10</td>\n",
       "      <td>10</td>\n",
       "      <td>56</td>\n",
       "      <td>58</td>\n",
       "      <td>17.241379</td>\n",
       "    </tr>\n",
       "    <tr>\n",
       "      <th>News &amp; Politics</th>\n",
       "      <td>25</td>\n",
       "      <td>13</td>\n",
       "      <td>32</td>\n",
       "      <td>48</td>\n",
       "      <td>52.083333</td>\n",
       "    </tr>\n",
       "    <tr>\n",
       "      <th>Autos &amp; Vehicles</th>\n",
       "      <td>4</td>\n",
       "      <td>4</td>\n",
       "      <td>23</td>\n",
       "      <td>24</td>\n",
       "      <td>16.666667</td>\n",
       "    </tr>\n",
       "    <tr>\n",
       "      <th>Comedy</th>\n",
       "      <td>1</td>\n",
       "      <td>1</td>\n",
       "      <td>16</td>\n",
       "      <td>18</td>\n",
       "      <td>5.555556</td>\n",
       "    </tr>\n",
       "    <tr>\n",
       "      <th>Sports</th>\n",
       "      <td>3</td>\n",
       "      <td>3</td>\n",
       "      <td>17</td>\n",
       "      <td>18</td>\n",
       "      <td>16.666667</td>\n",
       "    </tr>\n",
       "    <tr>\n",
       "      <th>Pets &amp; Animals</th>\n",
       "      <td>1</td>\n",
       "      <td>1</td>\n",
       "      <td>10</td>\n",
       "      <td>10</td>\n",
       "      <td>10.000000</td>\n",
       "    </tr>\n",
       "    <tr>\n",
       "      <th>Nonprofits &amp; Activism</th>\n",
       "      <td>1</td>\n",
       "      <td>1</td>\n",
       "      <td>5</td>\n",
       "      <td>5</td>\n",
       "      <td>20.000000</td>\n",
       "    </tr>\n",
       "    <tr>\n",
       "      <th>Shows</th>\n",
       "      <td>1</td>\n",
       "      <td>1</td>\n",
       "      <td>4</td>\n",
       "      <td>4</td>\n",
       "      <td>25.000000</td>\n",
       "    </tr>\n",
       "  </tbody>\n",
       "</table>\n",
       "</div>"
      ],
      "text/plain": [
       "                       Count  Influencer_Disclosing  TOtal Influncers  Total  \\\n",
       "People & Blogs            43                     40               443    485   \n",
       "Music                      7                      6               366    396   \n",
       "Howto & Style             63                     59               246    266   \n",
       "Entertainment             24                     21               207    214   \n",
       "Gaming                    23                     21               152    205   \n",
       "Film & Animation           9                      9               143    185   \n",
       "Travel & Events            7                      7               150    170   \n",
       "Science & Technology      14                     13               133    144   \n",
       "Education                 10                     10                56     58   \n",
       "News & Politics           25                     13                32     48   \n",
       "Autos & Vehicles           4                      4                23     24   \n",
       "Comedy                     1                      1                16     18   \n",
       "Sports                     3                      3                17     18   \n",
       "Pets & Animals             1                      1                10     10   \n",
       "Nonprofits & Activism      1                      1                 5      5   \n",
       "Shows                      1                      1                 4      4   \n",
       "\n",
       "                            perc  \n",
       "People & Blogs          8.865979  \n",
       "Music                   1.767677  \n",
       "Howto & Style          23.684211  \n",
       "Entertainment          11.214953  \n",
       "Gaming                 11.219512  \n",
       "Film & Animation        4.864865  \n",
       "Travel & Events         4.117647  \n",
       "Science & Technology    9.722222  \n",
       "Education              17.241379  \n",
       "News & Politics        52.083333  \n",
       "Autos & Vehicles       16.666667  \n",
       "Comedy                  5.555556  \n",
       "Sports                 16.666667  \n",
       "Pets & Animals         10.000000  \n",
       "Nonprofits & Activism  20.000000  \n",
       "Shows                  25.000000  "
      ]
     },
     "execution_count": 139,
     "metadata": {},
     "output_type": "execute_result"
    }
   ],
   "source": [
    "dat.sort_values('Total', ascending = False)"
   ]
  },
  {
   "cell_type": "markdown",
   "metadata": {},
   "source": [
    "How do the disclosures vary by year?"
   ]
  },
  {
   "cell_type": "code",
   "execution_count": 126,
   "metadata": {},
   "outputs": [
    {
     "data": {
      "text/html": [
       "<div>\n",
       "<style scoped>\n",
       "    .dataframe tbody tr th:only-of-type {\n",
       "        vertical-align: middle;\n",
       "    }\n",
       "\n",
       "    .dataframe tbody tr th {\n",
       "        vertical-align: top;\n",
       "    }\n",
       "\n",
       "    .dataframe thead th {\n",
       "        text-align: right;\n",
       "    }\n",
       "</style>\n",
       "<table border=\"1\" class=\"dataframe\">\n",
       "  <thead>\n",
       "    <tr style=\"text-align: right;\">\n",
       "      <th></th>\n",
       "      <th>number_disclosure</th>\n",
       "      <th>number_affiliate</th>\n",
       "      <th>perc</th>\n",
       "    </tr>\n",
       "  </thead>\n",
       "  <tbody>\n",
       "    <tr>\n",
       "      <th>2007</th>\n",
       "      <td>2.0</td>\n",
       "      <td>5</td>\n",
       "      <td>40.000000</td>\n",
       "    </tr>\n",
       "    <tr>\n",
       "      <th>2008</th>\n",
       "      <td>NaN</td>\n",
       "      <td>3</td>\n",
       "      <td>NaN</td>\n",
       "    </tr>\n",
       "    <tr>\n",
       "      <th>2009</th>\n",
       "      <td>NaN</td>\n",
       "      <td>13</td>\n",
       "      <td>NaN</td>\n",
       "    </tr>\n",
       "    <tr>\n",
       "      <th>2010</th>\n",
       "      <td>4.0</td>\n",
       "      <td>18</td>\n",
       "      <td>22.222222</td>\n",
       "    </tr>\n",
       "    <tr>\n",
       "      <th>2011</th>\n",
       "      <td>1.0</td>\n",
       "      <td>23</td>\n",
       "      <td>4.347826</td>\n",
       "    </tr>\n",
       "    <tr>\n",
       "      <th>2012</th>\n",
       "      <td>4.0</td>\n",
       "      <td>64</td>\n",
       "      <td>6.250000</td>\n",
       "    </tr>\n",
       "    <tr>\n",
       "      <th>2013</th>\n",
       "      <td>11.0</td>\n",
       "      <td>112</td>\n",
       "      <td>9.821429</td>\n",
       "    </tr>\n",
       "    <tr>\n",
       "      <th>2014</th>\n",
       "      <td>18.0</td>\n",
       "      <td>206</td>\n",
       "      <td>8.737864</td>\n",
       "    </tr>\n",
       "    <tr>\n",
       "      <th>2015</th>\n",
       "      <td>45.0</td>\n",
       "      <td>357</td>\n",
       "      <td>12.605042</td>\n",
       "    </tr>\n",
       "    <tr>\n",
       "      <th>2016</th>\n",
       "      <td>76.0</td>\n",
       "      <td>615</td>\n",
       "      <td>12.357724</td>\n",
       "    </tr>\n",
       "    <tr>\n",
       "      <th>2017</th>\n",
       "      <td>75.0</td>\n",
       "      <td>834</td>\n",
       "      <td>8.992806</td>\n",
       "    </tr>\n",
       "  </tbody>\n",
       "</table>\n",
       "</div>"
      ],
      "text/plain": [
       "      number_disclosure  number_affiliate       perc\n",
       "2007                2.0                 5  40.000000\n",
       "2008                NaN                 3        NaN\n",
       "2009                NaN                13        NaN\n",
       "2010                4.0                18  22.222222\n",
       "2011                1.0                23   4.347826\n",
       "2012                4.0                64   6.250000\n",
       "2013               11.0               112   9.821429\n",
       "2014               18.0               206   8.737864\n",
       "2015               45.0               357  12.605042\n",
       "2016               76.0               615  12.357724\n",
       "2017               75.0               834   8.992806"
      ]
     },
     "execution_count": 126,
     "metadata": {},
     "output_type": "execute_result"
    }
   ],
   "source": [
    "dat_year = pd.DataFrame({'number_affiliate': affiliate_videos_en['publishedAt'].value_counts(), 'number_disclosure': affiliate_videos_en[affiliate_videos_en['disclosure_present'] == True].groupby('publishedAt').size()})\n",
    "dat_year['perc'] = (dat_year['number_disclosure'] * 100) / dat_year['number_affiliate']\n",
    "dat_year[['number_disclosure', 'number_affiliate', 'perc']]"
   ]
  }
 ],
 "metadata": {
  "kernelspec": {
   "display_name": "Python 2",
   "language": "python",
   "name": "python2"
  },
  "language_info": {
   "codemirror_mode": {
    "name": "ipython",
    "version": 2
   },
   "file_extension": ".py",
   "mimetype": "text/x-python",
   "name": "python",
   "nbconvert_exporter": "python",
   "pygments_lexer": "ipython2",
   "version": "2.7.10"
  }
 },
 "nbformat": 4,
 "nbformat_minor": 2
}
