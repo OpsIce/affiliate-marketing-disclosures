{
 "cells": [
  {
   "cell_type": "code",
   "execution_count": 2,
   "metadata": {},
   "outputs": [],
   "source": [
    "import pandas as pd\n",
    "import sqlite3\n",
    "import matplotlib.pyplot as plt\n",
    "import matplotlib\n",
    "import numpy as np\n",
    "import isodate\n",
    "import urltools\n",
    "import urllib\n",
    "from scipy.stats import mannwhitneyu\n",
    "import re\n",
    "import os.path\n",
    "from langdetect import detect\n",
    "import string\n",
    "import nltk\n",
    "from nltk.tokenize import sent_tokenize\n",
    "from sklearn.feature_extraction.text import CountVectorizer, TfidfTransformer\n",
    "import fastcluster\n",
    "from sklearn.metrics.pairwise import euclidean_distances, cosine_distances\n",
    "from scipy.spatial.distance import squareform\n",
    "import sys\n",
    "from scipy.cluster.hierarchy import fcluster, dendrogram\n",
    "from nltk.stem.porter import PorterStemmer\n",
    "from ggplot import *\n",
    "import utils\n",
    "from statsmodels.distributions.empirical_distribution import ECDF\n",
    "import warnings\n",
    "warnings.filterwarnings('ignore')\n",
    "sys.setrecursionlimit(100000)\n",
    "matplotlib.style.use('ggplot')"
   ]
  },
  {
   "cell_type": "markdown",
   "metadata": {},
   "source": [
    "## Pinterest - Exploratory Analyses\n",
    "### Loading the dataset\n",
    "First, let us load the dataset from the database."
   ]
  },
  {
   "cell_type": "code",
   "execution_count": 3,
   "metadata": {},
   "outputs": [],
   "source": [
    "con = sqlite3.connect('../../crawler/Pinterest/pinterest.db')\n",
    "pin = pd.read_sql_query('SELECT * from pin', con)\n",
    "url = pd.read_sql_query('SELECT * from url', con)\n",
    "board = pd.read_sql_query('SELECT * from board', con)\n",
    "urlResolve = pd.read_sql_query('SELECT * from urlResolve', con)\n",
    "category = pd.read_sql_query('SELECT * from category', con)"
   ]
  },
  {
   "cell_type": "markdown",
   "metadata": {},
   "source": [
    "Next, let's examine the count of pins we collected. The tables are ``pins``, ``board``, ``url``, ``urlResolve``, and ``category``."
   ]
  },
  {
   "cell_type": "code",
   "execution_count": 4,
   "metadata": {},
   "outputs": [
    {
     "data": {
      "text/plain": [
       "(2140462, 31)"
      ]
     },
     "execution_count": 4,
     "metadata": {},
     "output_type": "execute_result"
    }
   ],
   "source": [
    "pin.shape"
   ]
  },
  {
   "cell_type": "code",
   "execution_count": 5,
   "metadata": {},
   "outputs": [
    {
     "data": {
      "text/plain": [
       "['autoId',\n",
       " 'id',\n",
       " 'link',\n",
       " 'trackedLink',\n",
       " 'title',\n",
       " 'description',\n",
       " 'descriptionHTML',\n",
       " 'closeupDescription',\n",
       " 'closeupUserNote',\n",
       " 'type',\n",
       " 'ownerId',\n",
       " 'promoterId',\n",
       " 'boardId',\n",
       " 'originOwnerId',\n",
       " 'likeCount',\n",
       " 'commentCount',\n",
       " 'repinCount',\n",
       " 'isPromoted',\n",
       " 'method',\n",
       " 'isRepin',\n",
       " 'priceValue',\n",
       " 'priceCurrency',\n",
       " 'richMetadataSiteName',\n",
       " 'richMetadataDescription',\n",
       " 'richMetadataTitle',\n",
       " 'richMetadataLocale',\n",
       " 'richMetadataUrl',\n",
       " 'richMetadataType',\n",
       " 'richMetadataId',\n",
       " 'createdAt',\n",
       " 'category']"
      ]
     },
     "execution_count": 5,
     "metadata": {},
     "output_type": "execute_result"
    }
   ],
   "source": [
    "list(pin.columns.values)"
   ]
  },
  {
   "cell_type": "code",
   "execution_count": 6,
   "metadata": {},
   "outputs": [
    {
     "data": {
      "text/plain": [
       "(2045678, 4)"
      ]
     },
     "execution_count": 6,
     "metadata": {},
     "output_type": "execute_result"
    }
   ],
   "source": [
    "url.shape"
   ]
  },
  {
   "cell_type": "code",
   "execution_count": 7,
   "metadata": {},
   "outputs": [
    {
     "data": {
      "text/plain": [
       "['autoId', 'pinId', 'url', 'origin']"
      ]
     },
     "execution_count": 7,
     "metadata": {},
     "output_type": "execute_result"
    }
   ],
   "source": [
    "list(url.columns.values)"
   ]
  },
  {
   "cell_type": "code",
   "execution_count": 8,
   "metadata": {},
   "outputs": [
    {
     "data": {
      "text/plain": [
       "(3286116, 5)"
      ]
     },
     "execution_count": 8,
     "metadata": {},
     "output_type": "execute_result"
    }
   ],
   "source": [
    "urlResolve.shape"
   ]
  },
  {
   "cell_type": "code",
   "execution_count": 9,
   "metadata": {},
   "outputs": [
    {
     "data": {
      "text/plain": [
       "['autoId', 'urlId', 'url', 'urlOrder', 'code']"
      ]
     },
     "execution_count": 9,
     "metadata": {},
     "output_type": "execute_result"
    }
   ],
   "source": [
    "list(urlResolve.columns.values)"
   ]
  },
  {
   "cell_type": "code",
   "execution_count": 10,
   "metadata": {},
   "outputs": [
    {
     "data": {
      "text/plain": [
       "(37, 5)"
      ]
     },
     "execution_count": 10,
     "metadata": {},
     "output_type": "execute_result"
    }
   ],
   "source": [
    "category.shape"
   ]
  },
  {
   "cell_type": "code",
   "execution_count": 11,
   "metadata": {},
   "outputs": [
    {
     "data": {
      "text/plain": [
       "['autoId', 'id', 'name', 'type', 'key']"
      ]
     },
     "execution_count": 11,
     "metadata": {},
     "output_type": "execute_result"
    }
   ],
   "source": [
    "list(category.columns.values)"
   ]
  },
  {
   "cell_type": "code",
   "execution_count": 12,
   "metadata": {},
   "outputs": [
    {
     "data": {
      "text/plain": [
       "(2145693, 10)"
      ]
     },
     "execution_count": 12,
     "metadata": {},
     "output_type": "execute_result"
    }
   ],
   "source": [
    "board.shape"
   ]
  },
  {
   "cell_type": "code",
   "execution_count": 13,
   "metadata": {},
   "outputs": [
    {
     "data": {
      "text/plain": [
       "['autoId',\n",
       " 'id',\n",
       " 'name',\n",
       " 'url',\n",
       " 'type',\n",
       " 'privacy',\n",
       " 'ownerId',\n",
       " 'description',\n",
       " 'category',\n",
       " 'boardOwnerId']"
      ]
     },
     "execution_count": 13,
     "metadata": {},
     "output_type": "execute_result"
    }
   ],
   "source": [
    "list(board.columns.values)"
   ]
  },
  {
   "cell_type": "markdown",
   "metadata": {},
   "source": [
    "### Remove duplicated pins and boards"
   ]
  },
  {
   "cell_type": "markdown",
   "metadata": {},
   "source": [
    "How many of the pins are unique?"
   ]
  },
  {
   "cell_type": "code",
   "execution_count": 14,
   "metadata": {},
   "outputs": [
    {
     "data": {
      "text/plain": [
       "False    2140462\n",
       "Name: id, dtype: int64"
      ]
     },
     "execution_count": 14,
     "metadata": {},
     "output_type": "execute_result"
    }
   ],
   "source": [
    "pin['id'].duplicated().value_counts()"
   ]
  },
  {
   "cell_type": "markdown",
   "metadata": {},
   "source": [
    "How many of the boards are unique?"
   ]
  },
  {
   "cell_type": "code",
   "execution_count": 15,
   "metadata": {},
   "outputs": [
    {
     "data": {
      "text/plain": [
       "True     1381615\n",
       "False     764078\n",
       "Name: id, dtype: int64"
      ]
     },
     "execution_count": 15,
     "metadata": {},
     "output_type": "execute_result"
    }
   ],
   "source": [
    "board['id'].duplicated().value_counts()"
   ]
  },
  {
   "cell_type": "markdown",
   "metadata": {},
   "source": [
    "Remove the duplicate boards."
   ]
  },
  {
   "cell_type": "code",
   "execution_count": 16,
   "metadata": {},
   "outputs": [],
   "source": [
    "board.drop_duplicates('id', inplace=True)"
   ]
  },
  {
   "cell_type": "code",
   "execution_count": 17,
   "metadata": {},
   "outputs": [
    {
     "data": {
      "text/plain": [
       "False    764078\n",
       "Name: id, dtype: int64"
      ]
     },
     "execution_count": 17,
     "metadata": {},
     "output_type": "execute_result"
    }
   ],
   "source": [
    "board['id'].duplicated().value_counts()"
   ]
  },
  {
   "cell_type": "markdown",
   "metadata": {},
   "source": [
    "Set the board id as the index."
   ]
  },
  {
   "cell_type": "code",
   "execution_count": 18,
   "metadata": {},
   "outputs": [],
   "source": [
    "board.set_index('id', inplace = True)"
   ]
  },
  {
   "cell_type": "markdown",
   "metadata": {},
   "source": [
    "### Examining the pins\n",
    "The category of a pin is defined by its board. Let's add the categories to the pins from the boards table."
   ]
  },
  {
   "cell_type": "code",
   "execution_count": 19,
   "metadata": {},
   "outputs": [],
   "source": [
    "pin['category_board'] = pin.apply(lambda x: board.category.get(key = x.boardId, default = 'Error'), axis = 1)\n",
    "pin['category_board'].fillna('default', inplace=True)"
   ]
  },
  {
   "cell_type": "markdown",
   "metadata": {},
   "source": [
    "Let's examine the categories."
   ]
  },
  {
   "cell_type": "code",
   "execution_count": 20,
   "metadata": {},
   "outputs": [
    {
     "data": {
      "text/plain": [
       "default                  1225278\n",
       "other                     235672\n",
       "food_drink                146865\n",
       "diy_crafts                 63880\n",
       "hair_beauty                58347\n",
       "home_decor                 51970\n",
       "womens_fashion             51080\n",
       "art                        25861\n",
       "humor                      24762\n",
       "weddings                   22116\n",
       "holidays_events            19846\n",
       "quotes                     19632\n",
       "health_fitness             18783\n",
       "animals                    18363\n",
       "design                     17530\n",
       "education                  15722\n",
       "travel                     13678\n",
       "gardening                  13566\n",
       "kids                       13319\n",
       "photography                12627\n",
       "film_music_books           12573\n",
       "products                    8670\n",
       "tattoos                     7534\n",
       "celebrities                 6795\n",
       "architecture                5755\n",
       "geek                        5058\n",
       "outdoors                    4882\n",
       "cars_motorcycles            4263\n",
       "illustrations_posters       3847\n",
       "science_nature              3186\n",
       "history                     3096\n",
       "sports                      2398\n",
       "mens_fashion                2390\n",
       "technology                  1118\n",
       "Name: category_board, dtype: int64"
      ]
     },
     "execution_count": 20,
     "metadata": {},
     "output_type": "execute_result"
    }
   ],
   "source": [
    "pin['category_board'].value_counts()"
   ]
  },
  {
   "cell_type": "markdown",
   "metadata": {},
   "source": [
    "How many pins do we have in each category?"
   ]
  },
  {
   "cell_type": "code",
   "execution_count": 21,
   "metadata": {},
   "outputs": [
    {
     "data": {
      "image/png": "[encoded data removed]",
      "text/plain": [
       "<matplotlib.figure.Figure at 0x278bb4f90>"
      ]
     },
     "metadata": {},
     "output_type": "display_data"
    }
   ],
   "source": [
    "((pin['category_board'].value_counts() * 100.0) / len(pin['category_board'])).plot.bar()\n",
    "plt.show()"
   ]
  },
  {
   "cell_type": "markdown",
   "metadata": {},
   "source": [
    "#### Pin creation times\n",
    "When were these pins published?"
   ]
  },
  {
   "cell_type": "code",
   "execution_count": 22,
   "metadata": {},
   "outputs": [],
   "source": [
    "pin['createdAtYear'] = pin.apply(lambda x: x.createdAt.split(' ')[3], axis = 1)"
   ]
  },
  {
   "cell_type": "code",
   "execution_count": 23,
   "metadata": {},
   "outputs": [
    {
     "data": {
      "image/png": "[encoded data removed]",
      "text/plain": [
       "<matplotlib.figure.Figure at 0x30fddfdd0>"
      ]
     },
     "metadata": {},
     "output_type": "display_data"
    }
   ],
   "source": [
    "((pin['createdAtYear'].value_counts() * 100.0) / len(pin['createdAt'])).plot.bar()\n",
    "plt.show()"
   ]
  },
  {
   "cell_type": "code",
   "execution_count": 24,
   "metadata": {},
   "outputs": [],
   "source": [
    "pin['createdAtMonth'] = pin.apply(lambda x: x.createdAt.split(' ')[2], axis = 1)"
   ]
  },
  {
   "cell_type": "code",
   "execution_count": 25,
   "metadata": {},
   "outputs": [
    {
     "data": {
      "text/plain": [
       "Sep    248285\n",
       "Aug    232178\n",
       "Oct    216435\n",
       "Jul    206024\n",
       "Jan    183928\n",
       "Mar    172393\n",
       "Jun    167004\n",
       "Feb    166340\n",
       "May    161522\n",
       "Nov    140304\n",
       "Dec    133655\n",
       "Apr    112394\n",
       "Name: createdAtMonth, dtype: int64"
      ]
     },
     "execution_count": 25,
     "metadata": {},
     "output_type": "execute_result"
    }
   ],
   "source": [
    "pin['createdAtMonth'].value_counts()"
   ]
  },
  {
   "cell_type": "markdown",
   "metadata": {},
   "source": [
    "#### Pin re-pins\n",
    "How do the re-pin counts vary?"
   ]
  },
  {
   "cell_type": "code",
   "execution_count": 26,
   "metadata": {},
   "outputs": [
    {
     "data": {
      "text/plain": [
       "count    2.140462e+06\n",
       "mean     1.062455e+00\n",
       "std      8.383927e+01\n",
       "min     -1.000000e+00\n",
       "25%      0.000000e+00\n",
       "50%      0.000000e+00\n",
       "75%      0.000000e+00\n",
       "max      5.653300e+04\n",
       "Name: repinCount, dtype: float64"
      ]
     },
     "execution_count": 26,
     "metadata": {},
     "output_type": "execute_result"
    }
   ],
   "source": [
    "pin['repinCount'] = pd.to_numeric(pin['repinCount'])\n",
    "pin['repinCount'].describe()"
   ]
  },
  {
   "cell_type": "code",
   "execution_count": 27,
   "metadata": {},
   "outputs": [],
   "source": [
    "pin['repinCount'] = pin['repinCount'].abs()"
   ]
  },
  {
   "cell_type": "code",
   "execution_count": 28,
   "metadata": {},
   "outputs": [
    {
     "data": {
      "text/plain": [
       "count    2.140462e+06\n",
       "mean     1.062482e+00\n",
       "std      8.383927e+01\n",
       "min      0.000000e+00\n",
       "25%      0.000000e+00\n",
       "50%      0.000000e+00\n",
       "75%      0.000000e+00\n",
       "max      5.653300e+04\n",
       "Name: repinCount, dtype: float64"
      ]
     },
     "execution_count": 28,
     "metadata": {},
     "output_type": "execute_result"
    }
   ],
   "source": [
    "pin['repinCount'].describe()"
   ]
  },
  {
   "cell_type": "code",
   "execution_count": 29,
   "metadata": {},
   "outputs": [
    {
     "data": {
      "image/png": "[encoded data removed]",
      "text/plain": [
       "<matplotlib.figure.Figure at 0x30f163590>"
      ]
     },
     "metadata": {},
     "output_type": "display_data"
    }
   ],
   "source": [
    "fig = plt.figure()\n",
    "ax = fig.add_subplot(111)\n",
    "ax.set_xlabel('Log(Repin Count)')\n",
    "ax.set_ylabel('Fraction of Pins')\n",
    "cdf = ECDF(pin['repinCount'])\n",
    "x_values = [np.log10(x + 1) for x in cdf.x[1:]]\n",
    "plt.plot(x_values, cdf.y[1:])\n",
    "plt.show()"
   ]
  },
  {
   "cell_type": "markdown",
   "metadata": {},
   "source": [
    "#### Pin likes\n",
    "How many likes do the pins have?"
   ]
  },
  {
   "cell_type": "code",
   "execution_count": 30,
   "metadata": {},
   "outputs": [
    {
     "data": {
      "text/plain": [
       "count    2140462.0\n",
       "mean           0.0\n",
       "std            0.0\n",
       "min            0.0\n",
       "25%            0.0\n",
       "50%            0.0\n",
       "75%            0.0\n",
       "max            0.0\n",
       "Name: likeCount, dtype: float64"
      ]
     },
     "execution_count": 30,
     "metadata": {},
     "output_type": "execute_result"
    }
   ],
   "source": [
    "pin['likeCount'] = pd.to_numeric(pin['likeCount'])\n",
    "pin['likeCount'].describe()"
   ]
  },
  {
   "cell_type": "markdown",
   "metadata": {},
   "source": [
    "#### Pin comments\n",
    "How many comments do the pins have?"
   ]
  },
  {
   "cell_type": "code",
   "execution_count": 31,
   "metadata": {},
   "outputs": [
    {
     "data": {
      "text/plain": [
       "count    2.140462e+06\n",
       "mean     2.717638e-03\n",
       "std      1.826925e-01\n",
       "min      0.000000e+00\n",
       "25%      0.000000e+00\n",
       "50%      0.000000e+00\n",
       "75%      0.000000e+00\n",
       "max      1.560000e+02\n",
       "Name: commentCount, dtype: float64"
      ]
     },
     "execution_count": 31,
     "metadata": {},
     "output_type": "execute_result"
    }
   ],
   "source": [
    "pin['commentCount'] = pd.to_numeric(pin['commentCount'])\n",
    "pin['commentCount'].describe()"
   ]
  },
  {
   "cell_type": "code",
   "execution_count": 32,
   "metadata": {},
   "outputs": [
    {
     "data": {
      "image/png": "[encoded data removed]",
      "text/plain": [
       "<matplotlib.figure.Figure at 0x310cdc110>"
      ]
     },
     "metadata": {},
     "output_type": "display_data"
    }
   ],
   "source": [
    "fig = plt.figure()\n",
    "ax = fig.add_subplot(111)\n",
    "ax.set_xlabel('Log(Comment Count)')\n",
    "ax.set_ylabel('Fraction of Pins')\n",
    "cdf = ECDF(pin['commentCount'])\n",
    "x_values = [np.log10(x + 1) for x in cdf.x[1:]]\n",
    "plt.plot(x_values, cdf.y[1:])\n",
    "plt.show()"
   ]
  },
  {
   "cell_type": "markdown",
   "metadata": {},
   "source": [
    "#### Pin repin characteristics\n",
    "How many of these pins were repins?"
   ]
  },
  {
   "cell_type": "code",
   "execution_count": 33,
   "metadata": {},
   "outputs": [
    {
     "data": {
      "text/plain": [
       "1    1970086\n",
       "0     170376\n",
       "Name: isRepin, dtype: int64"
      ]
     },
     "execution_count": 33,
     "metadata": {},
     "output_type": "execute_result"
    }
   ],
   "source": [
    "pin['isRepin'].value_counts()"
   ]
  },
  {
   "cell_type": "code",
   "execution_count": 34,
   "metadata": {},
   "outputs": [
    {
     "data": {
      "image/png": "[encoded data removed]",
      "text/plain": [
       "<matplotlib.figure.Figure at 0x30ed94f90>"
      ]
     },
     "metadata": {},
     "output_type": "display_data"
    }
   ],
   "source": [
    "((pin['isRepin'].value_counts() * 100.0) / len(pin['isRepin'])).plot.bar()\n",
    "plt.show()"
   ]
  },
  {
   "cell_type": "markdown",
   "metadata": {},
   "source": [
    "How many of these pins were promoted?"
   ]
  },
  {
   "cell_type": "code",
   "execution_count": 35,
   "metadata": {},
   "outputs": [
    {
     "data": {
      "text/plain": [
       "0    2140462\n",
       "Name: isPromoted, dtype: int64"
      ]
     },
     "execution_count": 35,
     "metadata": {},
     "output_type": "execute_result"
    }
   ],
   "source": [
    "pin['isPromoted'].value_counts()"
   ]
  },
  {
   "cell_type": "markdown",
   "metadata": {},
   "source": [
    "How many of the Pin URLs were duplicated?"
   ]
  },
  {
   "cell_type": "code",
   "execution_count": 36,
   "metadata": {},
   "outputs": [
    {
     "data": {
      "text/plain": [
       "False    1413508\n",
       "True      726954\n",
       "Name: link, dtype: int64"
      ]
     },
     "execution_count": 36,
     "metadata": {},
     "output_type": "execute_result"
    }
   ],
   "source": [
    "pin['link'].duplicated().value_counts()"
   ]
  },
  {
   "cell_type": "markdown",
   "metadata": {},
   "source": [
    "### Manipulating the URLs"
   ]
  },
  {
   "cell_type": "markdown",
   "metadata": {},
   "source": [
    "Add functions that dissect the URL to reveal the various parts."
   ]
  },
  {
   "cell_type": "code",
   "execution_count": 37,
   "metadata": {},
   "outputs": [],
   "source": [
    "def get_domain(x):\n",
    "    return urltools.parse(x.url).domain.lower()\n",
    "\n",
    "def get_path(x):\n",
    "    return urllib.unquote(urltools.parse(x.url).path).lower()\n",
    "\n",
    "def get_subdomain(x):\n",
    "    sd = urltools.parse(x.url).subdomain.lower()\n",
    "    if sd.startswith('www.'):\n",
    "        return sd[4:]\n",
    "    return sd\n",
    "\n",
    "def get_params(x):\n",
    "    return urllib.unquote(urltools.parse(x.url).query).lower()"
   ]
  },
  {
   "cell_type": "code",
   "execution_count": 38,
   "metadata": {},
   "outputs": [
    {
     "data": {
      "text/plain": [
       "['autoId', 'urlId', 'url', 'urlOrder', 'code']"
      ]
     },
     "execution_count": 38,
     "metadata": {},
     "output_type": "execute_result"
    }
   ],
   "source": [
    "list(urlResolve.columns.values)"
   ]
  },
  {
   "cell_type": "code",
   "execution_count": 39,
   "metadata": {},
   "outputs": [],
   "source": [
    "urlResolve['urlDomain'] = urlResolve.apply(get_domain, axis=1)\n",
    "urlResolve['urlPath'] = urlResolve.apply(get_path, axis=1)\n",
    "urlResolve['urlSubDomain'] = urlResolve.apply(get_subdomain, axis=1)\n",
    "urlResolve['urlParams'] = urlResolve.apply(get_params, axis=1)"
   ]
  },
  {
   "cell_type": "markdown",
   "metadata": {},
   "source": [
    "Mark all the following patterns as affiliate links."
   ]
  },
  {
   "cell_type": "code",
   "execution_count": 40,
   "metadata": {},
   "outputs": [],
   "source": [
    "def check_affiliate_link(x):\n",
    "    params_list = map(lambda y: y.split('=')[0], x.urlParams.split('&'))\n",
    "    regexp_clickbank = re.compile(r'.*.hop')\n",
    "    regexp_anrdoezrs = re.compile(r'/click-[0-9]+-[0-9]+')\n",
    "    regexp_buyeasy_1 = re.compile(r'/cashback.*')\n",
    "    regexp_buyeasy_2 = re.compile(r'/redirect.*')\n",
    "    regexp_admitad_1 = re.compile(r'/g/.*')\n",
    "    regexp_admitad_2 = re.compile(r'/goto/.*')\n",
    "    regexp_impactradius = re.compile(r'/c/[0-9]+/[0-9]+/[0-9]+')\n",
    "    regexp_pepperjam = re.compile(r'/t/[0-9]-[0-9]+-[0-9]+-[0-9]+')\n",
    "    \n",
    "    if ((x.urlDomain == 'affiliaxe' and 'aff_id' in params_list) or\n",
    "        (x.urlDomain == 'aliexpress' and 'af' in params_list) or\n",
    "        (x.urlDomain == 'amazon' and 'tag' in params_list) or\n",
    "        (x.urlDomain == 'apessay' and 'rid' in params_list) or\n",
    "        (x.urlDomain == 'apple' and 'at' in params_list) or\n",
    "        (x.urlDomain == 'audiojungle' and 'ref' in params_list) or\n",
    "        (x.urlDomain == 'awin1' and 'awinaffid' in params_list) or\n",
    "        (x.urlDomain == 'zanox' and x.urlPath == '/ppc') or\n",
    "        (x.urlDomain == 'zenaps' and x.urlPath == '/rclick.php') or\n",
    "        (x.urlDomain == 'banggood' and 'p' in params_list) or\n",
    "        (x.urlDomain == 'bookdepository' and 'a_aid' in params_list) or\n",
    "        (x.urlDomain == 'booking' and 'aid' in params_list) or\n",
    "        (x.urlDomain == 'ebay' and 'campid' in params_list) or\n",
    "        (x.urlDomain == 'envato' and 'ref' in params_list) or\n",
    "        (x.urlDomain == 'gtomegaracing' and 'tracking' in params_list) or\n",
    "        (x.urlDomain == 'hotellook' and 'marker' in params_list) or\n",
    "        (x.urlDomain == 'hotmart' and 'a' in params_list) or\n",
    "        (x.urlDomain == 'kontrolfreek' and 'a_aid' in params_list) or\n",
    "        (x.urlDomain == 'shareasale' and x.urlPath == '/r.cfm') or\n",
    "        (x.urlDomain == 'shareasale' and x.urlPath == '/m-pr.cfm') or\n",
    "        (x.urlDomain == 'shareasale' and x.urlPath == '/u.cfm') or\n",
    "        (x.urlDomain == 'rstyle') or\n",
    "        (x.urlDomain == 'shopstyle') or\n",
    "        (x.urlDomain == 'makeupgeek' and 'acc' in params_list) or\n",
    "        (x.urlDomain == 'olymptrade' and 'affiliate_id' in params_list) or\n",
    "        (x.urlDomain == 'videohive' and 'ref' in params_list) or\n",
    "        (x.urlDomain == 'avantlink' and 'pw' in params_list) or\n",
    "        (x.urlDomain == 'avangate' and 'AFFILIATE'.lower() in params_list) or\n",
    "        (x.urlDomain == 'redirectingat' and 'id' in params_list) or\n",
    "        (x.urlDomain == 'linksynergy' and x.urlSubDomain == 'click' and 'id' in params_list) or\n",
    "        (x.urlDomain == 'audiobooks' and 'a_aid' in params_list and 'a_bid' in params_list) or\n",
    "        (x.urlDomain == 'buyeasy' and regexp_buyeasy_1.search(x.urlPath)) or\n",
    "        (x.urlDomain == 'buyeasy' and regexp_buyeasy_2.search(x.urlPath)) or\n",
    "        (x.urlDomain == 'clickbank' and regexp_clickbank.search(x.urlSubDomain)) or\n",
    "        \n",
    "        ((x.urlDomain == '7eer' or x.urlDomain == 'evyy' or x.urlDomain == 'ojrq' ) and regexp_impactradius.search(x.urlPath)) or\n",
    "        \n",
    "        ((x.urlDomain == 'anrdoezrs' or x.urlDomain == 'dpbolvw' or x.urlDomain == 'kqzyfj' or x.urlDomain == 'jdoqocy' or x.urlDomain == 'tkqlhce') and regexp_anrdoezrs.search(x.urlPath)) or\n",
    "        (x.urlDomain == 'emjcd') or\n",
    "        (x.urlDomain == 'dotomi') or\n",
    "        (x.urlDomain == 'qksrv') or\n",
    "        \n",
    "        (x.urlDomain == 'zaful' and 'lkid' in params_list) or\n",
    "        (x.urlDomain == 'codecanyon' and 'ref' in params_list) or\n",
    "        (x.urlDomain == 'graphicriver' and 'ref' in params_list) or\n",
    "        (x.urlDomain == 'themeforest' and 'ref' in params_list) or\n",
    "        (x.urlDomain == 'admitad' and (regexp_admitad_1.search(x.urlPath) or regexp_admitad_2.search(x.urlPath))) or\n",
    "        (x.urlDomain == 'flipkart' and 'affid' in params_list) or\n",
    "        \n",
    "        ((x.urlDomain == 'pntra' or\n",
    "        x.urlDomain == 'gopjn' or\n",
    "        x.urlDomain == 'pjtra' or\n",
    "        x.urlDomain == 'pjatr' or\n",
    "        x.urlDomain == 'pntrs' or\n",
    "        x.urlDomain == 'pntrac') and (regexp_pepperjam.search(x.urlPath)))\n",
    "       ):\n",
    "        \n",
    "            return True\n",
    "        \n",
    "    return False\n",
    "\n",
    "urlResolve['affiliateLink'] = urlResolve.apply(check_affiliate_link, axis=1)"
   ]
  },
  {
   "cell_type": "markdown",
   "metadata": {},
   "source": [
    "How many of these resolved links were affiliate in nature?"
   ]
  },
  {
   "cell_type": "code",
   "execution_count": 41,
   "metadata": {},
   "outputs": [
    {
     "data": {
      "text/plain": [
       "False    3254951\n",
       "True       31165\n",
       "Name: affiliateLink, dtype: int64"
      ]
     },
     "execution_count": 41,
     "metadata": {},
     "output_type": "execute_result"
    }
   ],
   "source": [
    "urlResolve['affiliateLink'].value_counts()"
   ]
  },
  {
   "cell_type": "markdown",
   "metadata": {},
   "source": [
    "How did these resolved affiliate links vary by domain?"
   ]
  },
  {
   "cell_type": "code",
   "execution_count": 42,
   "metadata": {},
   "outputs": [
    {
     "data": {
      "text/plain": [
       "urlDomain\n",
       "shopstyle        9239\n",
       "amazon           7368\n",
       "rstyle           2711\n",
       "ebay             1963\n",
       "linksynergy      1877\n",
       "graphicriver     1465\n",
       "zaful             786\n",
       "aliexpress        785\n",
       "dotomi            783\n",
       "emjcd             775\n",
       "shareasale        616\n",
       "evyy              399\n",
       "anrdoezrs         365\n",
       "clickbank         262\n",
       "envato            262\n",
       "themeforest       200\n",
       "kqzyfj            158\n",
       "redirectingat     155\n",
       "awin1             151\n",
       "7eer              130\n",
       "jdoqocy           110\n",
       "qksrv             104\n",
       "dpbolvw            88\n",
       "codecanyon         76\n",
       "apple              61\n",
       "zenaps             60\n",
       "videohive          33\n",
       "tkqlhce            30\n",
       "gopjn              25\n",
       "flipkart           20\n",
       "pntrac             16\n",
       "pjtra              16\n",
       "banggood           13\n",
       "avantlink          12\n",
       "hotmart             8\n",
       "pjatr               8\n",
       "buyeasy             7\n",
       "booking             7\n",
       "pntrs               7\n",
       "pntra               7\n",
       "hotellook           5\n",
       "ojrq                1\n",
       "admitad             1\n",
       "Name: autoId, dtype: int64"
      ]
     },
     "execution_count": 42,
     "metadata": {},
     "output_type": "execute_result"
    }
   ],
   "source": [
    "(urlResolve[urlResolve['affiliateLink'] == True]).groupby(['urlDomain'])['autoId'].count().sort_values(ascending=False)"
   ]
  },
  {
   "cell_type": "markdown",
   "metadata": {},
   "source": [
    "Retain only those original URLs that were affiliate in nature."
   ]
  },
  {
   "cell_type": "code",
   "execution_count": 43,
   "metadata": {},
   "outputs": [],
   "source": [
    "affiliate_urls = url[url['autoId'].isin(urlResolve[urlResolve['affiliateLink'] == True].urlId.tolist())]"
   ]
  },
  {
   "cell_type": "markdown",
   "metadata": {},
   "source": [
    "How many URLs were retained?"
   ]
  },
  {
   "cell_type": "code",
   "execution_count": 44,
   "metadata": {},
   "outputs": [
    {
     "data": {
      "text/plain": [
       "(21025, 4)"
      ]
     },
     "execution_count": 44,
     "metadata": {},
     "output_type": "execute_result"
    }
   ],
   "source": [
    "affiliate_urls.shape"
   ]
  },
  {
   "cell_type": "markdown",
   "metadata": {},
   "source": [
    "How many pins do these URLs correspond to?"
   ]
  },
  {
   "cell_type": "code",
   "execution_count": 45,
   "metadata": {},
   "outputs": [
    {
     "data": {
      "text/plain": [
       "(18584, 34)"
      ]
     },
     "execution_count": 45,
     "metadata": {},
     "output_type": "execute_result"
    }
   ],
   "source": [
    "affiliate_pins = pin[pin['id'].isin(affiliate_urls['pinId'].tolist())].copy()\n",
    "affiliate_pins.shape"
   ]
  },
  {
   "cell_type": "markdown",
   "metadata": {},
   "source": [
    "What were the sources of the URLs in these pins?"
   ]
  },
  {
   "cell_type": "code",
   "execution_count": 46,
   "metadata": {},
   "outputs": [
    {
     "data": {
      "text/plain": [
       "link                  18237\n",
       "closeupUserNote        1381\n",
       "description            1379\n",
       "closeupDescription       28\n",
       "Name: origin, dtype: int64"
      ]
     },
     "execution_count": 46,
     "metadata": {},
     "output_type": "execute_result"
    }
   ],
   "source": [
    "affiliate_urls['origin'].value_counts()"
   ]
  },
  {
   "cell_type": "code",
   "execution_count": 47,
   "metadata": {},
   "outputs": [
    {
     "data": {
      "image/png": "[encoded data removed]",
      "text/plain": [
       "<matplotlib.figure.Figure at 0x38cf8ad50>"
      ]
     },
     "metadata": {},
     "output_type": "display_data"
    }
   ],
   "source": [
    "((affiliate_urls['origin'].value_counts() * 100.0) / len(affiliate_urls['origin'])).plot.bar()\n",
    "plt.show()"
   ]
  },
  {
   "cell_type": "code",
   "execution_count": 48,
   "metadata": {},
   "outputs": [],
   "source": [
    "affiliate_urls = affiliate_urls[affiliate_urls['origin'] == 'link']"
   ]
  },
  {
   "cell_type": "markdown",
   "metadata": {},
   "source": [
    "#### Affiliate pin catgories\n",
    "How did these affiliate pins vary by category?"
   ]
  },
  {
   "cell_type": "code",
   "execution_count": 49,
   "metadata": {},
   "outputs": [
    {
     "data": {
      "image/png": "[encoded data removed]",
      "text/plain": [
       "<matplotlib.figure.Figure at 0x310a00510>"
      ]
     },
     "metadata": {},
     "output_type": "display_data"
    }
   ],
   "source": [
    "((affiliate_pins['category_board'].value_counts() * 100.0) / len(affiliate_pins['category_board'])).plot.bar()\n",
    "plt.show()"
   ]
  },
  {
   "cell_type": "markdown",
   "metadata": {},
   "source": [
    "#### Affiliate pins % by category\n",
    "How did these affiliate pins vary as a function of the overall number of pins in each category?"
   ]
  },
  {
   "cell_type": "code",
   "execution_count": 50,
   "metadata": {},
   "outputs": [
    {
     "data": {
      "text/plain": [
       "womens_fashion           4.622161\n",
       "products                 2.214533\n",
       "hair_beauty              2.041236\n",
       "sports                   1.626355\n",
       "design                   1.534512\n",
       "outdoors                 1.208521\n",
       "technology               1.162791\n",
       "mens_fashion             1.129707\n",
       "animals                  0.996569\n",
       "default                  0.920852\n",
       "other                    0.737466\n",
       "health_fitness           0.633552\n",
       "home_decor               0.611891\n",
       "photography              0.538529\n",
       "kids                     0.473008\n",
       "architecture             0.469157\n",
       "tattoos                  0.424741\n",
       "art                      0.375082\n",
       "weddings                 0.325556\n",
       "travel                   0.321684\n",
       "geek                     0.276789\n",
       "film_music_books         0.262467\n",
       "gardening                0.206398\n",
       "diy_crafts               0.173763\n",
       "holidays_events          0.141086\n",
       "quotes                   0.132437\n",
       "illustrations_posters    0.129971\n",
       "celebrities              0.103017\n",
       "history                  0.096899\n",
       "science_nature           0.094162\n",
       "cars_motorcycles         0.093831\n",
       "education                0.082687\n",
       "humor                    0.068654\n",
       "food_drink               0.066047\n",
       "Name: category_board, dtype: float64"
      ]
     },
     "execution_count": 50,
     "metadata": {},
     "output_type": "execute_result"
    }
   ],
   "source": [
    "((affiliate_pins['category_board'].value_counts()*100.0)/pin['category_board'].value_counts()).sort_values(ascending=False)"
   ]
  },
  {
   "cell_type": "code",
   "execution_count": 51,
   "metadata": {},
   "outputs": [
    {
     "data": {
      "image/png": "[encoded data removed]",
      "text/plain": [
       "<matplotlib.figure.Figure at 0x2b1939a10>"
      ]
     },
     "metadata": {},
     "output_type": "display_data"
    }
   ],
   "source": [
    "(((affiliate_pins['category_board'].value_counts()*100.0)/pin['category_board'].value_counts()).sort_values(ascending=False)).plot.bar()\n",
    "plt.show()"
   ]
  },
  {
   "cell_type": "code",
   "execution_count": 52,
   "metadata": {},
   "outputs": [
    {
     "data": {
      "text/plain": [
       "False    1615590\n",
       "True      524872\n",
       "dtype: int64"
      ]
     },
     "execution_count": 52,
     "metadata": {},
     "output_type": "execute_result"
    }
   ],
   "source": [
    "(pin['category'] == pin['category_board']).value_counts()"
   ]
  },
  {
   "cell_type": "markdown",
   "metadata": {},
   "source": [
    "#### Affiliate pins repins\n",
    "How many of the affiliate pins are repins?"
   ]
  },
  {
   "cell_type": "code",
   "execution_count": 53,
   "metadata": {},
   "outputs": [
    {
     "data": {
      "text/plain": [
       "1    15250\n",
       "0     3334\n",
       "Name: isRepin, dtype: int64"
      ]
     },
     "execution_count": 53,
     "metadata": {},
     "output_type": "execute_result"
    }
   ],
   "source": [
    "affiliate_pins['isRepin'].value_counts()"
   ]
  },
  {
   "cell_type": "markdown",
   "metadata": {},
   "source": [
    "Is this different from the non-affiliate pins?"
   ]
  },
  {
   "cell_type": "code",
   "execution_count": 54,
   "metadata": {},
   "outputs": [
    {
     "data": {
      "text/plain": [
       "1    1955139\n",
       "0     167086\n",
       "Name: isRepin, dtype: int64"
      ]
     },
     "execution_count": 54,
     "metadata": {},
     "output_type": "execute_result"
    }
   ],
   "source": [
    "non_affiliate_pins = pin[~pin['id'].isin(affiliate_urls['pinId'].tolist())]\n",
    "non_affiliate_pins['isRepin'].value_counts()"
   ]
  },
  {
   "cell_type": "markdown",
   "metadata": {},
   "source": [
    "#### Affiliate pins repin counts\n",
    "How do the repin counts of the affiliate pins vary?"
   ]
  },
  {
   "cell_type": "code",
   "execution_count": 57,
   "metadata": {},
   "outputs": [],
   "source": [
    "dat_affiliate = utils.cdf(np.log10(affiliate_pins['repinCount'] + 1), 'repinCount')\n",
    "dat_affiliate['Type'] = 'Affiliate pins'\n",
    "dat_non_affiliate = utils.cdf(np.log10(non_affiliate_pins['repinCount'] + 1), 'repinCount')\n",
    "dat_non_affiliate['Type'] = 'Non-affiliate pins'\n",
    "dat_all = utils.cdf(np.log10(pin['repinCount'] + 1), 'repinCount')\n",
    "dat_all['Type'] = 'All'\n",
    "dat = pd.concat([dat_affiliate, dat_non_affiliate, dat_all])"
   ]
  },
  {
   "cell_type": "code",
   "execution_count": 58,
   "metadata": {},
   "outputs": [
    {
     "data": {
      "image/png": "[encoded data removed]",
      "text/plain": [
       "<matplotlib.figure.Figure at 0x2b1a8b850>"
      ]
     },
     "metadata": {},
     "output_type": "display_data"
    },
    {
     "data": {
      "text/plain": [
       "<ggplot: (723159813)>"
      ]
     },
     "execution_count": 58,
     "metadata": {},
     "output_type": "execute_result"
    }
   ],
   "source": [
    "ggplot(dat, aes(x = 'repinCount', y='Fraction', color='Type')) + geom_path() + xlab('Log(Repin Count)')"
   ]
  },
  {
   "cell_type": "code",
   "execution_count": 59,
   "metadata": {},
   "outputs": [
    {
     "data": {
      "text/plain": [
       "MannwhitneyuResult(statistic=19339415996.0, pvalue=8.746349220564776e-12)"
      ]
     },
     "execution_count": 59,
     "metadata": {},
     "output_type": "execute_result"
    }
   ],
   "source": [
    "mannwhitneyu(affiliate_pins['repinCount'].tolist(), non_affiliate_pins['repinCount'].tolist())"
   ]
  },
  {
   "cell_type": "markdown",
   "metadata": {},
   "source": [
    "### Examining the affiliate pin descriptions"
   ]
  },
  {
   "cell_type": "markdown",
   "metadata": {},
   "source": [
    "What languages are these descriptions in?"
   ]
  },
  {
   "cell_type": "code",
   "execution_count": 60,
   "metadata": {},
   "outputs": [],
   "source": [
    "def get_language(x):\n",
    "    language = 'Unknown'\n",
    "    try:\n",
    "        language = detect(x.description.strip())\n",
    "    except:\n",
    "        pass\n",
    "    return language\n",
    "\n",
    "affiliate_pins['description_language'] = affiliate_pins.apply(get_language, axis=1)"
   ]
  },
  {
   "cell_type": "code",
   "execution_count": 61,
   "metadata": {},
   "outputs": [
    {
     "data": {
      "text/plain": [
       "en         11443\n",
       "Unknown     2503\n",
       "de           711\n",
       "fr           412\n",
       "no           379\n",
       "so           288\n",
       "ro           286\n",
       "nl           220\n",
       "it           215\n",
       "es           212\n",
       "ca           205\n",
       "af           194\n",
       "da           167\n",
       "cy           152\n",
       "pt           146\n",
       "et           124\n",
       "tl           116\n",
       "fi           109\n",
       "sv           103\n",
       "id           100\n",
       "pl            64\n",
       "sl            61\n",
       "sq            55\n",
       "vi            49\n",
       "tr            44\n",
       "sw            41\n",
       "lt            30\n",
       "cs            28\n",
       "sk            24\n",
       "hr            23\n",
       "hu            19\n",
       "uk            16\n",
       "el            14\n",
       "lv            13\n",
       "ru             5\n",
       "mk             4\n",
       "bg             3\n",
       "ja             2\n",
       "ko             2\n",
       "he             1\n",
       "zh-cn          1\n",
       "Name: description_language, dtype: int64"
      ]
     },
     "execution_count": 61,
     "metadata": {},
     "output_type": "execute_result"
    }
   ],
   "source": [
    "affiliate_pins['description_language'].value_counts()"
   ]
  },
  {
   "cell_type": "code",
   "execution_count": 62,
   "metadata": {},
   "outputs": [
    {
     "data": {
      "image/png": "[encoded data removed]",
      "text/plain": [
       "<matplotlib.figure.Figure at 0x298015810>"
      ]
     },
     "metadata": {},
     "output_type": "display_data"
    }
   ],
   "source": [
    "((affiliate_pins['description_language'].value_counts() * 100) / sum(affiliate_pins['description_language'].value_counts())).plot.bar()\n",
    "plt.show()"
   ]
  },
  {
   "cell_type": "markdown",
   "metadata": {},
   "source": [
    "How many lines do these descriptions contain?"
   ]
  },
  {
   "cell_type": "code",
   "execution_count": 63,
   "metadata": {},
   "outputs": [
    {
     "data": {
      "text/plain": [
       "count    18584.000000\n",
       "mean         0.999623\n",
       "std          0.019405\n",
       "min          0.000000\n",
       "25%          1.000000\n",
       "50%          1.000000\n",
       "75%          1.000000\n",
       "max          1.000000\n",
       "Name: description_line_count, dtype: float64"
      ]
     },
     "execution_count": 63,
     "metadata": {},
     "output_type": "execute_result"
    }
   ],
   "source": [
    "affiliate_pins['description_line_count'] = affiliate_pins.apply(lambda x: len(x.description.splitlines()), axis=1)\n",
    "affiliate_pins['description_line_count'].describe()"
   ]
  },
  {
   "cell_type": "markdown",
   "metadata": {},
   "source": [
    "How many characters do these descriptions contain?"
   ]
  },
  {
   "cell_type": "code",
   "execution_count": 64,
   "metadata": {},
   "outputs": [
    {
     "data": {
      "text/plain": [
       "count    18584.000000\n",
       "mean        55.209535\n",
       "std         63.211329\n",
       "min          0.000000\n",
       "25%         14.000000\n",
       "50%         35.000000\n",
       "75%         73.000000\n",
       "max       1005.000000\n",
       "Name: description_character_count, dtype: float64"
      ]
     },
     "execution_count": 64,
     "metadata": {},
     "output_type": "execute_result"
    }
   ],
   "source": [
    "affiliate_pins['description_character_count'] = affiliate_pins.apply(lambda x: len(x.description) - x.description.count('\\n') - x.description.count(' '), axis=1)\n",
    "affiliate_pins['description_character_count'].describe()"
   ]
  },
  {
   "cell_type": "code",
   "execution_count": 65,
   "metadata": {},
   "outputs": [
    {
     "data": {
      "image/png": "[encoded data removed]",
      "text/plain": [
       "<matplotlib.figure.Figure at 0x2b19742d0>"
      ]
     },
     "metadata": {},
     "output_type": "display_data"
    }
   ],
   "source": [
    "fig = plt.figure()\n",
    "ax = fig.add_subplot(111)\n",
    "ax.set_xlabel('Log(Character Count)')\n",
    "ax.set_ylabel('Fraction of Pins')\n",
    "cdf = ECDF(affiliate_pins['description_character_count'])\n",
    "x_values = [np.log10(x + 1) for x in cdf.x[1:]]\n",
    "plt.plot(x_values, cdf.y[1:])\n",
    "plt.show()"
   ]
  },
  {
   "cell_type": "markdown",
   "metadata": {},
   "source": [
    "Moving forward, let's only examine the videos that contain descriptions in English."
   ]
  },
  {
   "cell_type": "code",
   "execution_count": 66,
   "metadata": {},
   "outputs": [],
   "source": [
    "affiliate_pins_en = affiliate_pins[affiliate_pins['description_language'] == 'en'].copy()"
   ]
  },
  {
   "cell_type": "markdown",
   "metadata": {},
   "source": [
    "Next, let's cluster these by the sentences they contain. First, let's write routines to tokenize the sentences."
   ]
  },
  {
   "cell_type": "code",
   "execution_count": 98,
   "metadata": {},
   "outputs": [],
   "source": [
    "stemmer = PorterStemmer()\n",
    "\n",
    "def tokenize(line):\n",
    "    if (line is None):\n",
    "        line = ''\n",
    "    printable = set(string.printable)\n",
    "    line = ''.join(filter(lambda x: x in printable, line)) \n",
    "    stopwords = nltk.corpus.stopwords.words('english')\n",
    "\n",
    "    tokenizer = nltk.RegexpTokenizer(r'[a-zA-Z]*\\'[a-zA-Z]*|\\w+')\n",
    "    \n",
    "    tokens = []\n",
    "    \n",
    "    line = re.sub(r'(http[s]?://|www.)(?:[a-zA-Z]|[0-9]|[$-_@.&+]*|[!*\\\\(\\\\),]|(?:%[0-9a-fA-F][0-9a-fA-F]))*', '', line).lower()\n",
    "    tokens.extend(tokenizer.tokenize(line))\n",
    "    \n",
    "    tokens_ = [f.strip(string.punctuation) for f in tokens]\n",
    "    tokens_ = [f for f in tokens_ if f != '' and f not in stopwords and len(f) != 1]\n",
    "    tokens_ = [f for f in tokens_ if not (f.isdigit() or f[0] == '-' and f[1:].isdigit())]\n",
    "    tokens_ = [stemmer.stem(f) for f in tokens_]\n",
    "\n",
    "    return tokens_"
   ]
  },
  {
   "cell_type": "markdown",
   "metadata": {},
   "source": [
    "Next, let's divide the documents into lines, and expand the dataframe."
   ]
  },
  {
   "cell_type": "code",
   "execution_count": 99,
   "metadata": {},
   "outputs": [],
   "source": [
    "rows = []\n",
    "\n",
    "def description_parse(desc):\n",
    "    sentences = []\n",
    "    for line in desc.splitlines():\n",
    "        for sent in sent_tokenize(line):\n",
    "            sentences.append(sent)\n",
    "    \n",
    "    return sentences\n",
    "\n",
    "affiliate_pins_en.reset_index().apply(lambda row: [rows.append([row['id'], row['description'], sent])\n",
    "                                       for sent in description_parse(row.description) if (len(tokenize(sent)) != 0)], axis = 1)\n",
    "affiliate_pins_en_new = pd.DataFrame(rows, columns=['id', 'description', 'sentence'])"
   ]
  },
  {
   "cell_type": "markdown",
   "metadata": {},
   "source": [
    "How many sentences do we have?"
   ]
  },
  {
   "cell_type": "code",
   "execution_count": 100,
   "metadata": {},
   "outputs": [
    {
     "data": {
      "text/plain": [
       "16173"
      ]
     },
     "execution_count": 100,
     "metadata": {},
     "output_type": "execute_result"
    }
   ],
   "source": [
    "len(affiliate_pins_en_new.index)"
   ]
  },
  {
   "cell_type": "markdown",
   "metadata": {},
   "source": [
    "How many words do we have in each sentence?"
   ]
  },
  {
   "cell_type": "code",
   "execution_count": 101,
   "metadata": {},
   "outputs": [
    {
     "data": {
      "text/plain": [
       "count    16173.000000\n",
       "mean        10.314104\n",
       "std         10.103926\n",
       "min          1.000000\n",
       "25%          4.000000\n",
       "50%          8.000000\n",
       "75%         14.000000\n",
       "max        187.000000\n",
       "Name: sentence_word_count, dtype: float64"
      ]
     },
     "execution_count": 101,
     "metadata": {},
     "output_type": "execute_result"
    }
   ],
   "source": [
    "affiliate_pins_en_new['sentence_word_count'] = affiliate_pins_en_new.apply(lambda x: len(x.sentence.split(' ')), axis=1)\n",
    "affiliate_pins_en_new['sentence_word_count'].describe()"
   ]
  },
  {
   "cell_type": "code",
   "execution_count": 102,
   "metadata": {},
   "outputs": [],
   "source": [
    "countVec = CountVectorizer(tokenizer=tokenize, binary=True).fit(affiliate_pins_en_new['sentence'])"
   ]
  },
  {
   "cell_type": "markdown",
   "metadata": {},
   "source": [
    "What is the size of the vocabulary?"
   ]
  },
  {
   "cell_type": "code",
   "execution_count": 103,
   "metadata": {},
   "outputs": [
    {
     "data": {
      "text/plain": [
       "13904"
      ]
     },
     "execution_count": 103,
     "metadata": {},
     "output_type": "execute_result"
    }
   ],
   "source": [
    "len(countVec.vocabulary_)"
   ]
  },
  {
   "cell_type": "markdown",
   "metadata": {},
   "source": [
    "Let's create the bag of words representation."
   ]
  },
  {
   "cell_type": "code",
   "execution_count": 104,
   "metadata": {},
   "outputs": [],
   "source": [
    "lineVec = countVec.transform(affiliate_pins_en_new['sentence'])"
   ]
  },
  {
   "cell_type": "markdown",
   "metadata": {},
   "source": [
    "#### Ward and Euclidean"
   ]
  },
  {
   "cell_type": "markdown",
   "metadata": {},
   "source": [
    "First, let's compute the euclidean distance matrix from the above."
   ]
  },
  {
   "cell_type": "code",
   "execution_count": 105,
   "metadata": {},
   "outputs": [],
   "source": [
    "dist = euclidean_distances(lineVec)"
   ]
  },
  {
   "cell_type": "markdown",
   "metadata": {},
   "source": [
    "Next, let's convert this to vector format. This is necessary as the linkage method below requires it in this format."
   ]
  },
  {
   "cell_type": "code",
   "execution_count": 106,
   "metadata": {},
   "outputs": [],
   "source": [
    "distVec = squareform(dist, checks = False)"
   ]
  },
  {
   "cell_type": "markdown",
   "metadata": {},
   "source": [
    "Finally, let's cluster the lines."
   ]
  },
  {
   "cell_type": "code",
   "execution_count": 107,
   "metadata": {},
   "outputs": [],
   "source": [
    "res = fastcluster.linkage(distVec, method = 'ward', preserve_input = False)"
   ]
  },
  {
   "cell_type": "markdown",
   "metadata": {},
   "source": [
    "Let's visualize the clusters."
   ]
  },
  {
   "cell_type": "code",
   "execution_count": 108,
   "metadata": {
    "scrolled": true
   },
   "outputs": [
    {
     "data": {
      "image/png": "[encoded data removed]",
      "text/plain": [
       "<matplotlib.figure.Figure at 0x29f322590>"
      ]
     },
     "metadata": {},
     "output_type": "display_data"
    }
   ],
   "source": [
    "plt.figure(figsize=(35, 10))\n",
    "plt.xlabel('Line Index')\n",
    "plt.ylabel('Distance')\n",
    "dendrogram(\n",
    "    res,\n",
    "    leaf_rotation=90.,  \n",
    "    leaf_font_size=8.,  \n",
    ")\n",
    "plt.show()"
   ]
  },
  {
   "cell_type": "markdown",
   "metadata": {},
   "source": [
    "Let's write the cluster numbers to a column in the data, and output the file."
   ]
  },
  {
   "cell_type": "code",
   "execution_count": 109,
   "metadata": {},
   "outputs": [],
   "source": [
    "affiliate_pins_en_new['ward_euclidean_cluster'] = fcluster(res, 5, criterion='distance')"
   ]
  },
  {
   "cell_type": "code",
   "execution_count": 110,
   "metadata": {},
   "outputs": [],
   "source": [
    "#affiliate_pins_en_new.to_csv('clusters.csv', encoding='utf-8', columns=['id', 'sentence', 'ward_euclidean_cluster'], index=False)"
   ]
  },
  {
   "cell_type": "code",
   "execution_count": 114,
   "metadata": {},
   "outputs": [],
   "source": [
    "a = [99, 100, 101, 103, 104, 106, 137, 138, 139, 226, 764, 833, 836, 1668] + range(1495, 1558)\n",
    "affiliate_pins_en_new['affiliate_link_disclosure'] = False\n",
    "affiliate_pins_en_new.loc[affiliate_pins_en_new['ward_euclidean_cluster'].isin(a), 'affiliate_link_disclosure'] = True\n",
    "                                                                               \n",
    "affiliate_pins_en_new['affiliate_link_expl_disclosure'] = False\n",
    "affiliate_pins_en_new.loc[affiliate_pins_en_new['ward_euclidean_cluster'].isin([1493, 1494]), 'affiliate_link_expl_disclosure'] = True\n"
   ]
  },
  {
   "cell_type": "code",
   "execution_count": 115,
   "metadata": {},
   "outputs": [],
   "source": [
    "affiliate_pins_en['affiliate_link_disclosure'] = affiliate_pins_en.apply(lambda x: True if x.id in affiliate_pins_en_new[affiliate_pins_en_new['affiliate_link_disclosure'] == True]['id'].unique() else False, axis = 1)\n",
    "affiliate_pins_en['affiliate_link_expl_disclosure'] = affiliate_pins_en.apply(lambda x: True if x.id in affiliate_pins_en_new[affiliate_pins_en_new['affiliate_link_expl_disclosure'] == True]['id'].unique() else False, axis = 1)"
   ]
  },
  {
   "cell_type": "code",
   "execution_count": 116,
   "metadata": {},
   "outputs": [
    {
     "data": {
      "text/plain": [
       "False    10940\n",
       "True       528\n",
       "Name: affiliate_link_disclosure, dtype: int64"
      ]
     },
     "execution_count": 116,
     "metadata": {},
     "output_type": "execute_result"
    }
   ],
   "source": [
    "affiliate_pins_en['affiliate_link_disclosure'].value_counts()"
   ]
  },
  {
   "cell_type": "code",
   "execution_count": 117,
   "metadata": {},
   "outputs": [
    {
     "data": {
      "text/plain": [
       "False    11189\n",
       "True       279\n",
       "Name: affiliate_link_expl_disclosure, dtype: int64"
      ]
     },
     "execution_count": 117,
     "metadata": {},
     "output_type": "execute_result"
    }
   ],
   "source": [
    "affiliate_pins_en['affiliate_link_expl_disclosure'].value_counts()"
   ]
  },
  {
   "cell_type": "code",
   "execution_count": 118,
   "metadata": {},
   "outputs": [
    {
     "data": {
      "text/plain": [
       "False    10662\n",
       "True       806\n",
       "Name: disclosure_present, dtype: int64"
      ]
     },
     "execution_count": 118,
     "metadata": {},
     "output_type": "execute_result"
    }
   ],
   "source": [
    "affiliate_pins_en['disclosure_present'] = affiliate_pins_en.apply(lambda x: True if x.affiliate_link_disclosure == True or x.affiliate_link_expl_disclosure == True else False, axis = 1)\n",
    "affiliate_pins_en['disclosure_present'].value_counts()"
   ]
  },
  {
   "cell_type": "code",
   "execution_count": 126,
   "metadata": {},
   "outputs": [
    {
     "data": {
      "text/plain": [
       "186"
      ]
     },
     "execution_count": 126,
     "metadata": {},
     "output_type": "execute_result"
    }
   ],
   "source": [
    "len(affiliate_pins_en[affiliate_pins_en['affiliate_link_disclosure'] == True]['ownerId'].unique())"
   ]
  },
  {
   "cell_type": "code",
   "execution_count": 127,
   "metadata": {},
   "outputs": [
    {
     "data": {
      "text/plain": [
       "24"
      ]
     },
     "execution_count": 127,
     "metadata": {},
     "output_type": "execute_result"
    }
   ],
   "source": [
    "len(affiliate_pins_en[affiliate_pins_en['affiliate_link_expl_disclosure'] == True]['ownerId'].unique())"
   ]
  },
  {
   "cell_type": "code",
   "execution_count": 128,
   "metadata": {},
   "outputs": [
    {
     "data": {
      "text/plain": [
       "207"
      ]
     },
     "execution_count": 128,
     "metadata": {},
     "output_type": "execute_result"
    }
   ],
   "source": [
    "len(affiliate_pins_en[affiliate_pins_en['disclosure_present'] == True]['ownerId'].unique())"
   ]
  },
  {
   "cell_type": "code",
   "execution_count": 136,
   "metadata": {},
   "outputs": [
    {
     "data": {
      "text/plain": [
       "6330"
      ]
     },
     "execution_count": 136,
     "metadata": {},
     "output_type": "execute_result"
    }
   ],
   "source": [
    "len(affiliate_pins_en['ownerId'].unique())"
   ]
  },
  {
   "cell_type": "code",
   "execution_count": 141,
   "metadata": {},
   "outputs": [],
   "source": [
    "dat = pd.DataFrame({'Count': affiliate_pins_en[affiliate_pins_en['disclosure_present'] == True]['category'].value_counts(),\n",
    "             'Total': affiliate_pins_en['category'].value_counts(),\n",
    "                        'Influencer_Disclosing': affiliate_pins_en[affiliate_pins_en['disclosure_present'] == True][['category','originOwnerId']].groupby('category').originOwnerId.nunique(),\n",
    "'Total_Influncers': affiliate_pins_en[['category','originOwnerId']].groupby('category').originOwnerId.nunique()})\n",
    "\n",
    "dat['perc'] = (dat['Count'] * 100) / dat['Total']\n"
   ]
  },
  {
   "cell_type": "code",
   "execution_count": 142,
   "metadata": {},
   "outputs": [
    {
     "data": {
      "text/html": [
       "<div>\n",
       "<style scoped>\n",
       "    .dataframe tbody tr th:only-of-type {\n",
       "        vertical-align: middle;\n",
       "    }\n",
       "\n",
       "    .dataframe tbody tr th {\n",
       "        vertical-align: top;\n",
       "    }\n",
       "\n",
       "    .dataframe thead th {\n",
       "        text-align: right;\n",
       "    }\n",
       "</style>\n",
       "<table border=\"1\" class=\"dataframe\">\n",
       "  <thead>\n",
       "    <tr style=\"text-align: right;\">\n",
       "      <th></th>\n",
       "      <th>Count</th>\n",
       "      <th>Influencer_Disclosing</th>\n",
       "      <th>Total</th>\n",
       "      <th>Total_Influncers</th>\n",
       "      <th>perc</th>\n",
       "    </tr>\n",
       "  </thead>\n",
       "  <tbody>\n",
       "    <tr>\n",
       "      <th>womens_fashion</th>\n",
       "      <td>215.0</td>\n",
       "      <td>39.0</td>\n",
       "      <td>5107</td>\n",
       "      <td>960</td>\n",
       "      <td>4.209908</td>\n",
       "    </tr>\n",
       "    <tr>\n",
       "      <th></th>\n",
       "      <td>5.0</td>\n",
       "      <td>1.0</td>\n",
       "      <td>1279</td>\n",
       "      <td>9</td>\n",
       "      <td>0.390930</td>\n",
       "    </tr>\n",
       "    <tr>\n",
       "      <th>hair_beauty</th>\n",
       "      <td>106.0</td>\n",
       "      <td>20.0</td>\n",
       "      <td>932</td>\n",
       "      <td>238</td>\n",
       "      <td>11.373391</td>\n",
       "    </tr>\n",
       "    <tr>\n",
       "      <th>home_decor</th>\n",
       "      <td>55.0</td>\n",
       "      <td>18.0</td>\n",
       "      <td>751</td>\n",
       "      <td>248</td>\n",
       "      <td>7.323569</td>\n",
       "    </tr>\n",
       "    <tr>\n",
       "      <th>diy_crafts</th>\n",
       "      <td>37.0</td>\n",
       "      <td>14.0</td>\n",
       "      <td>646</td>\n",
       "      <td>162</td>\n",
       "      <td>5.727554</td>\n",
       "    </tr>\n",
       "    <tr>\n",
       "      <th>animals</th>\n",
       "      <td>236.0</td>\n",
       "      <td>26.0</td>\n",
       "      <td>389</td>\n",
       "      <td>71</td>\n",
       "      <td>60.668380</td>\n",
       "    </tr>\n",
       "    <tr>\n",
       "      <th>sports</th>\n",
       "      <td>10.0</td>\n",
       "      <td>3.0</td>\n",
       "      <td>325</td>\n",
       "      <td>14</td>\n",
       "      <td>3.076923</td>\n",
       "    </tr>\n",
       "    <tr>\n",
       "      <th>design</th>\n",
       "      <td>1.0</td>\n",
       "      <td>1.0</td>\n",
       "      <td>319</td>\n",
       "      <td>64</td>\n",
       "      <td>0.313480</td>\n",
       "    </tr>\n",
       "    <tr>\n",
       "      <th>health_fitness</th>\n",
       "      <td>25.0</td>\n",
       "      <td>5.0</td>\n",
       "      <td>196</td>\n",
       "      <td>45</td>\n",
       "      <td>12.755102</td>\n",
       "    </tr>\n",
       "    <tr>\n",
       "      <th>photography</th>\n",
       "      <td>5.0</td>\n",
       "      <td>1.0</td>\n",
       "      <td>172</td>\n",
       "      <td>56</td>\n",
       "      <td>2.906977</td>\n",
       "    </tr>\n",
       "    <tr>\n",
       "      <th>kids</th>\n",
       "      <td>13.0</td>\n",
       "      <td>6.0</td>\n",
       "      <td>156</td>\n",
       "      <td>74</td>\n",
       "      <td>8.333333</td>\n",
       "    </tr>\n",
       "    <tr>\n",
       "      <th>food_drink</th>\n",
       "      <td>20.0</td>\n",
       "      <td>7.0</td>\n",
       "      <td>142</td>\n",
       "      <td>68</td>\n",
       "      <td>14.084507</td>\n",
       "    </tr>\n",
       "    <tr>\n",
       "      <th>art</th>\n",
       "      <td>NaN</td>\n",
       "      <td>NaN</td>\n",
       "      <td>127</td>\n",
       "      <td>44</td>\n",
       "      <td>NaN</td>\n",
       "    </tr>\n",
       "    <tr>\n",
       "      <th>quotes</th>\n",
       "      <td>NaN</td>\n",
       "      <td>NaN</td>\n",
       "      <td>92</td>\n",
       "      <td>46</td>\n",
       "      <td>NaN</td>\n",
       "    </tr>\n",
       "    <tr>\n",
       "      <th>outdoors</th>\n",
       "      <td>32.0</td>\n",
       "      <td>14.0</td>\n",
       "      <td>84</td>\n",
       "      <td>24</td>\n",
       "      <td>38.095238</td>\n",
       "    </tr>\n",
       "    <tr>\n",
       "      <th>travel</th>\n",
       "      <td>15.0</td>\n",
       "      <td>3.0</td>\n",
       "      <td>78</td>\n",
       "      <td>37</td>\n",
       "      <td>19.230769</td>\n",
       "    </tr>\n",
       "    <tr>\n",
       "      <th>weddings</th>\n",
       "      <td>3.0</td>\n",
       "      <td>3.0</td>\n",
       "      <td>77</td>\n",
       "      <td>39</td>\n",
       "      <td>3.896104</td>\n",
       "    </tr>\n",
       "    <tr>\n",
       "      <th>film_music_books</th>\n",
       "      <td>3.0</td>\n",
       "      <td>1.0</td>\n",
       "      <td>74</td>\n",
       "      <td>40</td>\n",
       "      <td>4.054054</td>\n",
       "    </tr>\n",
       "    <tr>\n",
       "      <th>mens_fashion</th>\n",
       "      <td>5.0</td>\n",
       "      <td>2.0</td>\n",
       "      <td>68</td>\n",
       "      <td>33</td>\n",
       "      <td>7.352941</td>\n",
       "    </tr>\n",
       "    <tr>\n",
       "      <th>humor</th>\n",
       "      <td>1.0</td>\n",
       "      <td>1.0</td>\n",
       "      <td>62</td>\n",
       "      <td>34</td>\n",
       "      <td>1.612903</td>\n",
       "    </tr>\n",
       "    <tr>\n",
       "      <th>holidays_events</th>\n",
       "      <td>8.0</td>\n",
       "      <td>4.0</td>\n",
       "      <td>56</td>\n",
       "      <td>28</td>\n",
       "      <td>14.285714</td>\n",
       "    </tr>\n",
       "    <tr>\n",
       "      <th>geek</th>\n",
       "      <td>NaN</td>\n",
       "      <td>NaN</td>\n",
       "      <td>52</td>\n",
       "      <td>24</td>\n",
       "      <td>NaN</td>\n",
       "    </tr>\n",
       "    <tr>\n",
       "      <th>tattoos</th>\n",
       "      <td>NaN</td>\n",
       "      <td>NaN</td>\n",
       "      <td>52</td>\n",
       "      <td>29</td>\n",
       "      <td>NaN</td>\n",
       "    </tr>\n",
       "    <tr>\n",
       "      <th>gardening</th>\n",
       "      <td>NaN</td>\n",
       "      <td>NaN</td>\n",
       "      <td>50</td>\n",
       "      <td>17</td>\n",
       "      <td>NaN</td>\n",
       "    </tr>\n",
       "    <tr>\n",
       "      <th>technology</th>\n",
       "      <td>3.0</td>\n",
       "      <td>1.0</td>\n",
       "      <td>50</td>\n",
       "      <td>6</td>\n",
       "      <td>6.000000</td>\n",
       "    </tr>\n",
       "    <tr>\n",
       "      <th>products</th>\n",
       "      <td>4.0</td>\n",
       "      <td>2.0</td>\n",
       "      <td>41</td>\n",
       "      <td>8</td>\n",
       "      <td>9.756098</td>\n",
       "    </tr>\n",
       "    <tr>\n",
       "      <th>cars_motorcycles</th>\n",
       "      <td>3.0</td>\n",
       "      <td>3.0</td>\n",
       "      <td>31</td>\n",
       "      <td>19</td>\n",
       "      <td>9.677419</td>\n",
       "    </tr>\n",
       "    <tr>\n",
       "      <th>education</th>\n",
       "      <td>NaN</td>\n",
       "      <td>NaN</td>\n",
       "      <td>25</td>\n",
       "      <td>15</td>\n",
       "      <td>NaN</td>\n",
       "    </tr>\n",
       "    <tr>\n",
       "      <th>celebrities</th>\n",
       "      <td>1.0</td>\n",
       "      <td>1.0</td>\n",
       "      <td>17</td>\n",
       "      <td>9</td>\n",
       "      <td>5.882353</td>\n",
       "    </tr>\n",
       "    <tr>\n",
       "      <th>science_nature</th>\n",
       "      <td>NaN</td>\n",
       "      <td>NaN</td>\n",
       "      <td>7</td>\n",
       "      <td>3</td>\n",
       "      <td>NaN</td>\n",
       "    </tr>\n",
       "    <tr>\n",
       "      <th>history</th>\n",
       "      <td>NaN</td>\n",
       "      <td>NaN</td>\n",
       "      <td>6</td>\n",
       "      <td>5</td>\n",
       "      <td>NaN</td>\n",
       "    </tr>\n",
       "    <tr>\n",
       "      <th>architecture</th>\n",
       "      <td>NaN</td>\n",
       "      <td>NaN</td>\n",
       "      <td>5</td>\n",
       "      <td>5</td>\n",
       "      <td>NaN</td>\n",
       "    </tr>\n",
       "  </tbody>\n",
       "</table>\n",
       "</div>"
      ],
      "text/plain": [
       "                  Count  Influencer_Disclosing  Total  Total_Influncers  \\\n",
       "womens_fashion    215.0                   39.0   5107               960   \n",
       "                    5.0                    1.0   1279                 9   \n",
       "hair_beauty       106.0                   20.0    932               238   \n",
       "home_decor         55.0                   18.0    751               248   \n",
       "diy_crafts         37.0                   14.0    646               162   \n",
       "animals           236.0                   26.0    389                71   \n",
       "sports             10.0                    3.0    325                14   \n",
       "design              1.0                    1.0    319                64   \n",
       "health_fitness     25.0                    5.0    196                45   \n",
       "photography         5.0                    1.0    172                56   \n",
       "kids               13.0                    6.0    156                74   \n",
       "food_drink         20.0                    7.0    142                68   \n",
       "art                 NaN                    NaN    127                44   \n",
       "quotes              NaN                    NaN     92                46   \n",
       "outdoors           32.0                   14.0     84                24   \n",
       "travel             15.0                    3.0     78                37   \n",
       "weddings            3.0                    3.0     77                39   \n",
       "film_music_books    3.0                    1.0     74                40   \n",
       "mens_fashion        5.0                    2.0     68                33   \n",
       "humor               1.0                    1.0     62                34   \n",
       "holidays_events     8.0                    4.0     56                28   \n",
       "geek                NaN                    NaN     52                24   \n",
       "tattoos             NaN                    NaN     52                29   \n",
       "gardening           NaN                    NaN     50                17   \n",
       "technology          3.0                    1.0     50                 6   \n",
       "products            4.0                    2.0     41                 8   \n",
       "cars_motorcycles    3.0                    3.0     31                19   \n",
       "education           NaN                    NaN     25                15   \n",
       "celebrities         1.0                    1.0     17                 9   \n",
       "science_nature      NaN                    NaN      7                 3   \n",
       "history             NaN                    NaN      6                 5   \n",
       "architecture        NaN                    NaN      5                 5   \n",
       "\n",
       "                       perc  \n",
       "womens_fashion     4.209908  \n",
       "                   0.390930  \n",
       "hair_beauty       11.373391  \n",
       "home_decor         7.323569  \n",
       "diy_crafts         5.727554  \n",
       "animals           60.668380  \n",
       "sports             3.076923  \n",
       "design             0.313480  \n",
       "health_fitness    12.755102  \n",
       "photography        2.906977  \n",
       "kids               8.333333  \n",
       "food_drink        14.084507  \n",
       "art                     NaN  \n",
       "quotes                  NaN  \n",
       "outdoors          38.095238  \n",
       "travel            19.230769  \n",
       "weddings           3.896104  \n",
       "film_music_books   4.054054  \n",
       "mens_fashion       7.352941  \n",
       "humor              1.612903  \n",
       "holidays_events   14.285714  \n",
       "geek                    NaN  \n",
       "tattoos                 NaN  \n",
       "gardening               NaN  \n",
       "technology         6.000000  \n",
       "products           9.756098  \n",
       "cars_motorcycles   9.677419  \n",
       "education               NaN  \n",
       "celebrities        5.882353  \n",
       "science_nature          NaN  \n",
       "history                 NaN  \n",
       "architecture            NaN  "
      ]
     },
     "execution_count": 142,
     "metadata": {},
     "output_type": "execute_result"
    }
   ],
   "source": [
    "dat.sort_values('Total', ascending = False)"
   ]
  },
  {
   "cell_type": "code",
   "execution_count": 124,
   "metadata": {},
   "outputs": [
    {
     "data": {
      "text/html": [
       "<div>\n",
       "<style scoped>\n",
       "    .dataframe tbody tr th:only-of-type {\n",
       "        vertical-align: middle;\n",
       "    }\n",
       "\n",
       "    .dataframe tbody tr th {\n",
       "        vertical-align: top;\n",
       "    }\n",
       "\n",
       "    .dataframe thead th {\n",
       "        text-align: right;\n",
       "    }\n",
       "</style>\n",
       "<table border=\"1\" class=\"dataframe\">\n",
       "  <thead>\n",
       "    <tr style=\"text-align: right;\">\n",
       "      <th></th>\n",
       "      <th>number_disclosure</th>\n",
       "      <th>number_affiliate</th>\n",
       "      <th>perc</th>\n",
       "    </tr>\n",
       "  </thead>\n",
       "  <tbody>\n",
       "    <tr>\n",
       "      <th>2012</th>\n",
       "      <td>NaN</td>\n",
       "      <td>103</td>\n",
       "      <td>NaN</td>\n",
       "    </tr>\n",
       "    <tr>\n",
       "      <th>2013</th>\n",
       "      <td>NaN</td>\n",
       "      <td>384</td>\n",
       "      <td>NaN</td>\n",
       "    </tr>\n",
       "    <tr>\n",
       "      <th>2014</th>\n",
       "      <td>NaN</td>\n",
       "      <td>624</td>\n",
       "      <td>NaN</td>\n",
       "    </tr>\n",
       "    <tr>\n",
       "      <th>2015</th>\n",
       "      <td>NaN</td>\n",
       "      <td>1015</td>\n",
       "      <td>NaN</td>\n",
       "    </tr>\n",
       "    <tr>\n",
       "      <th>2016</th>\n",
       "      <td>50.0</td>\n",
       "      <td>2595</td>\n",
       "      <td>1.926782</td>\n",
       "    </tr>\n",
       "    <tr>\n",
       "      <th>2017</th>\n",
       "      <td>756.0</td>\n",
       "      <td>6747</td>\n",
       "      <td>11.204980</td>\n",
       "    </tr>\n",
       "  </tbody>\n",
       "</table>\n",
       "</div>"
      ],
      "text/plain": [
       "      number_disclosure  number_affiliate       perc\n",
       "2012                NaN               103        NaN\n",
       "2013                NaN               384        NaN\n",
       "2014                NaN               624        NaN\n",
       "2015                NaN              1015        NaN\n",
       "2016               50.0              2595   1.926782\n",
       "2017              756.0              6747  11.204980"
      ]
     },
     "execution_count": 124,
     "metadata": {},
     "output_type": "execute_result"
    }
   ],
   "source": [
    "dat_year = pd.DataFrame({'number_affiliate': affiliate_pins_en['createdAtYear'].value_counts(), 'number_disclosure': affiliate_pins_en[affiliate_pins_en['disclosure_present'] == True].groupby('createdAtYear').size()})\n",
    "dat_year['perc'] = (dat_year['number_disclosure'] * 100) / dat_year['number_affiliate']\n",
    "dat_year[['number_disclosure', 'number_affiliate', 'perc']]\n"
   ]
  }
 ],
 "metadata": {
  "kernelspec": {
   "display_name": "Python 2",
   "language": "python",
   "name": "python2"
  },
  "language_info": {
   "codemirror_mode": {
    "name": "ipython",
    "version": 2
   },
   "file_extension": ".py",
   "mimetype": "text/x-python",
   "name": "python",
   "nbconvert_exporter": "python",
   "pygments_lexer": "ipython2",
   "version": "2.7.10"
  }
 },
 "nbformat": 4,
 "nbformat_minor": 2
}
